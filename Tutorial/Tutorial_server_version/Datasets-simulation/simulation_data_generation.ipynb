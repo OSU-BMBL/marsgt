{
 "cells": [
  {
   "cell_type": "code",
   "execution_count": 1,
   "id": "e41117f4",
   "metadata": {},
   "outputs": [],
   "source": [
    "from collections import Counter\n",
    "import matplotlib.pyplot as plt\n",
    "from pysankey2 import Sankey\n",
    "from scipy import sparse\n",
    "from scipy.sparse import hstack, vstack, coo_matrix\n",
    "from scipy.io import mmread\n",
    "from sklearn import metrics\n",
    "import math\n",
    "import time\n",
    "import anndata\n",
    "import torch\n",
    "import numpy as np\n",
    "import pandas as pd\n",
    "import scanpy as sc\n",
    "import random\n",
    "import os\n",
    "from warnings import filterwarnings\n",
    "import scipy.sparse as sp\n",
    "from operator import itemgetter\n",
    "filterwarnings(\"ignore\")\n",
    "import json, os\n",
    "import math, copy, time\n",
    "import numpy as np\n",
    "from collections import defaultdict\n",
    "import pyHGT2\n",
    "from pyHGT2.data import *\n",
    "from pyHGT2.utils import *\n",
    "from pyHGT2.model1 import *\n",
    "from pyHGT2.conv import *\n",
    "from sklearn import metrics"
   ]
  },
  {
   "cell_type": "code",
   "execution_count": 2,
   "id": "62f91562",
   "metadata": {},
   "outputs": [],
   "source": [
    "from collections import Counter\n",
    "import matplotlib.pyplot as plt\n",
    "from pysankey2 import Sankey\n",
    "from scipy.sparse import hstack, vstack, coo_matrix\n",
    "from scipy.io import mmread\n",
    "from sklearn import metrics\n",
    "import math\n",
    "import time\n",
    "import anndata\n",
    "import torch\n",
    "import numpy as np\n",
    "import pandas as pd\n",
    "import scanpy as sc\n",
    "import random\n",
    "import os\n",
    "from scipy import sparse\n",
    "from scipy.io import mmread\n",
    "from scipy.sparse import hstack, vstack, coo_matrix"
   ]
  },
  {
   "cell_type": "code",
   "execution_count": 3,
   "id": "5d27ceb8",
   "metadata": {},
   "outputs": [],
   "source": [
    "seed = 0\n",
    "torch.manual_seed(seed)\n",
    "torch.cuda.manual_seed(seed)\n",
    "torch.cuda.manual_seed_all(seed)\n",
    "random.seed(seed)\n",
    "np.random.seed(seed)\n",
    "os.environ['PYTHONHASHSEED'] = str(seed)\n",
    "torch.manual_seed(seed)\n",
    "torch.cuda.manual_seed(seed)"
   ]
  },
  {
   "cell_type": "markdown",
   "id": "dededc6e",
   "metadata": {},
   "source": [
    "#### Sim-PBMC 1-5"
   ]
  },
  {
   "cell_type": "code",
   "execution_count": 4,
   "id": "61ca6c90",
   "metadata": {},
   "outputs": [],
   "source": [
    "def sub_anndatas(index,ad1,dim1,ad2,dim2,ad3):\n",
    "    def sub_ad(ad,id,dim):\n",
    "        if dim == 0:\n",
    "            ad = ad[id,:]\n",
    "        elif dim == 1:\n",
    "            ad = ad[:,id]\n",
    "        return(ad)\n",
    "\n",
    "    # sub sample\n",
    "    ad1 = sub_ad(ad1,index,dim1)\n",
    "    ad2 = sub_ad(ad2,index,dim2)\n",
    "\n",
    "    # delete feature1 and feature2 not in sample\n",
    "    index1 = np.where(np.array(ad1.X.sum(dim1)).squeeze()>0)[0]\n",
    "    index2 = np.where(np.array(ad2.X.sum(dim2)).squeeze()>0)[0]\n",
    "    ad3_new = sub_ad(sub_ad(ad3,index1,0),index2,1)\n",
    "\n",
    "    # delete feature1 and feature2 not link\n",
    "    index1 = index1[np.where(np.array(ad3_new.X.sum(1)).squeeze()>0)[0]]\n",
    "    index2 = index2[np.where(np.array(ad3_new.X.sum(0)).squeeze()>0)[0]]\n",
    "\n",
    "    ad1 = sub_ad(ad1,index1,1-dim1)\n",
    "    ad2 = sub_ad(ad2,index2,1-dim2)\n",
    "    ad3 = sub_ad(sub_ad(ad3,index1,0),index2,1)\n",
    "\n",
    "    #delete sample don't in features\n",
    "    index = np.where((np.array(ad1.X.sum(1-dim1)).squeeze()>0) & (np.array(ad2.X.sum(1-dim2)).squeeze()>0))[0]\n",
    "    ad1 = sub_ad(ad1,index,dim1)\n",
    "    ad2 = sub_ad(ad2,index,dim2)\n",
    "    return (ad1,ad2,ad3,index1,index2,index)"
   ]
  },
  {
   "cell_type": "code",
   "execution_count": 34,
   "id": "e91215d7",
   "metadata": {},
   "outputs": [],
   "source": [
    "os.chdir('/fs/ess/PCON0022/dmt/data/dataset/data1/')\n",
    "cell_type = pd.read_csv('cell_type.csv', index_col=0)\n",
    "\n",
    "gene_peak = anndata.read_mtx('Gene_Peak.mtx')\n",
    "gene_cell = anndata.read_mtx('Gene_Cell.mtx')\n",
    "peak_cell = anndata.read_mtx('Peak_Cell.mtx')\n",
    "gene_names = pd.read_csv('Gene_names.tsv', sep='\\t', header=None)\n",
    "cell_names = pd.read_csv('Cell_names.tsv', sep='\\t', header=None)\n",
    "peak_names = pd.read_csv('Peak_names.tsv', sep='\\t', header=None)\n",
    "peak_cell.obs_names = peak_names[0]\n",
    "peak_cell.var_names = cell_names[0]\n",
    "gene_cell.obs_names = gene_names[0]\n",
    "gene_cell.var_names = cell_names[0]\n",
    "gene_peak.obs_names = gene_names[0]\n",
    "gene_peak.var_names = peak_names[0]\n",
    "\n",
    "#Gene_Cell, Peak_Cell, Gene_Peak = gene_cell,peak_cell,gene_peak\n",
    "true_label = cell_type.loc[cell_names[0].tolist(), :]['cell_type']\n",
    "cell_type['number'] = 1\n",
    "cell_count = cell_type.groupby('cell_type').count()\n",
    "cell_count =cell_count.sort_values(by='number',ascending=True, inplace=False)\n",
    "rare_name = cell_count.iloc[0:3].index\n",
    "ordinary_name = cell_count.iloc[-3:].index"
   ]
  },
  {
   "cell_type": "code",
   "execution_count": 35,
   "id": "82d22742",
   "metadata": {},
   "outputs": [
    {
     "data": {
      "text/plain": [
       "TAGTTGTCACCCTCAC-1-s1d1       Naive CD20+ B\n",
       "CTATGGCCATAACGGG-1-s1d1          CD14+ Mono\n",
       "CCGCACACAGGTTAAA-1-s1d1              CD8+ T\n",
       "TCATTTGGTAATGGAA-1-s1d1              CD8+ T\n",
       "ACCACATAGGTGTCCA-1-s1d1          CD16+ Mono\n",
       "                                 ...       \n",
       "GGTTTCTGTCGACTAA-3-s1d3          Normoblast\n",
       "GGATGTAAGGATGATG-3-s1d3    CD4+ T activated\n",
       "ATCTATGAGATGCCTG-3-s1d3        CD4+ T naive\n",
       "CGCATTACACCAGGTT-3-s1d3                  NK\n",
       "AGCTAGTTCAATAGCC-3-s1d3        CD8+ T naive\n",
       "Name: cell_type, Length: 17243, dtype: object"
      ]
     },
     "execution_count": 35,
     "metadata": {},
     "output_type": "execute_result"
    }
   ],
   "source": [
    "cell_names = pd.read_csv('Cell_names.tsv', sep='\\t', header=None)\n",
    "true_label = cell_type.loc[cell_names[0].tolist(), :]['cell_type']\n",
    "true_label"
   ]
  },
  {
   "cell_type": "code",
   "execution_count": 36,
   "id": "5203cf5b",
   "metadata": {},
   "outputs": [
    {
     "data": {
      "text/html": [
       "<div>\n",
       "<style scoped>\n",
       "    .dataframe tbody tr th:only-of-type {\n",
       "        vertical-align: middle;\n",
       "    }\n",
       "\n",
       "    .dataframe tbody tr th {\n",
       "        vertical-align: top;\n",
       "    }\n",
       "\n",
       "    .dataframe thead th {\n",
       "        text-align: right;\n",
       "    }\n",
       "</style>\n",
       "<table border=\"1\" class=\"dataframe\">\n",
       "  <thead>\n",
       "    <tr style=\"text-align: right;\">\n",
       "      <th></th>\n",
       "      <th>number</th>\n",
       "    </tr>\n",
       "    <tr>\n",
       "      <th>cell_type</th>\n",
       "      <th></th>\n",
       "    </tr>\n",
       "  </thead>\n",
       "  <tbody>\n",
       "    <tr>\n",
       "      <th>ID2-hi myeloid prog</th>\n",
       "      <td>108</td>\n",
       "    </tr>\n",
       "    <tr>\n",
       "      <th>Plasma cell</th>\n",
       "      <td>379</td>\n",
       "    </tr>\n",
       "    <tr>\n",
       "      <th>ILC</th>\n",
       "      <td>835</td>\n",
       "    </tr>\n",
       "    <tr>\n",
       "      <th>cDC2</th>\n",
       "      <td>859</td>\n",
       "    </tr>\n",
       "    <tr>\n",
       "      <th>MK/E prog</th>\n",
       "      <td>884</td>\n",
       "    </tr>\n",
       "    <tr>\n",
       "      <th>CD8+ T naive</th>\n",
       "      <td>1012</td>\n",
       "    </tr>\n",
       "    <tr>\n",
       "      <th>HSC</th>\n",
       "      <td>1072</td>\n",
       "    </tr>\n",
       "    <tr>\n",
       "      <th>pDC</th>\n",
       "      <td>1191</td>\n",
       "    </tr>\n",
       "    <tr>\n",
       "      <th>G/M prog</th>\n",
       "      <td>1203</td>\n",
       "    </tr>\n",
       "    <tr>\n",
       "      <th>Lymph prog</th>\n",
       "      <td>1779</td>\n",
       "    </tr>\n",
       "    <tr>\n",
       "      <th>Normoblast</th>\n",
       "      <td>1780</td>\n",
       "    </tr>\n",
       "    <tr>\n",
       "      <th>B1 B</th>\n",
       "      <td>1890</td>\n",
       "    </tr>\n",
       "    <tr>\n",
       "      <th>CD16+ Mono</th>\n",
       "      <td>1894</td>\n",
       "    </tr>\n",
       "    <tr>\n",
       "      <th>Proerythroblast</th>\n",
       "      <td>2300</td>\n",
       "    </tr>\n",
       "    <tr>\n",
       "      <th>Transitional B</th>\n",
       "      <td>2810</td>\n",
       "    </tr>\n",
       "    <tr>\n",
       "      <th>CD4+ T naive</th>\n",
       "      <td>4398</td>\n",
       "    </tr>\n",
       "    <tr>\n",
       "      <th>Erythroblast</th>\n",
       "      <td>4916</td>\n",
       "    </tr>\n",
       "    <tr>\n",
       "      <th>Naive CD20+ B</th>\n",
       "      <td>5052</td>\n",
       "    </tr>\n",
       "    <tr>\n",
       "      <th>CD4+ T activated</th>\n",
       "      <td>5526</td>\n",
       "    </tr>\n",
       "    <tr>\n",
       "      <th>NK</th>\n",
       "      <td>6929</td>\n",
       "    </tr>\n",
       "    <tr>\n",
       "      <th>CD14+ Mono</th>\n",
       "      <td>10843</td>\n",
       "    </tr>\n",
       "    <tr>\n",
       "      <th>CD8+ T</th>\n",
       "      <td>11589</td>\n",
       "    </tr>\n",
       "  </tbody>\n",
       "</table>\n",
       "</div>"
      ],
      "text/plain": [
       "                     number\n",
       "cell_type                  \n",
       "ID2-hi myeloid prog     108\n",
       "Plasma cell             379\n",
       "ILC                     835\n",
       "cDC2                    859\n",
       "MK/E prog               884\n",
       "CD8+ T naive           1012\n",
       "HSC                    1072\n",
       "pDC                    1191\n",
       "G/M prog               1203\n",
       "Lymph prog             1779\n",
       "Normoblast             1780\n",
       "B1 B                   1890\n",
       "CD16+ Mono             1894\n",
       "Proerythroblast        2300\n",
       "Transitional B         2810\n",
       "CD4+ T naive           4398\n",
       "Erythroblast           4916\n",
       "Naive CD20+ B          5052\n",
       "CD4+ T activated       5526\n",
       "NK                     6929\n",
       "CD14+ Mono            10843\n",
       "CD8+ T                11589"
      ]
     },
     "execution_count": 36,
     "metadata": {},
     "output_type": "execute_result"
    }
   ],
   "source": [
    "cell_type['number'] = 1\n",
    "cell_count = cell_type.groupby('cell_type').count()\n",
    "cell_count =cell_count.sort_values(by='number',ascending=True, inplace=False)\n",
    "rare_name = cell_count.iloc[0:3].index\n",
    "ordinary_name = cell_count.iloc[-2:].index\n",
    "rare_type = random.choice(rare_name)\n",
    "ordinary_type = random.sample(list(ordinary_name),2)\n",
    "cell_count"
   ]
  },
  {
   "cell_type": "markdown",
   "id": "4d4539fd",
   "metadata": {},
   "source": [
    "#### Sim-PBMC 1"
   ]
  },
  {
   "cell_type": "code",
   "execution_count": 11,
   "id": "856e44bc",
   "metadata": {},
   "outputs": [
    {
     "name": "stderr",
     "output_type": "stream",
     "text": [
      "100%|██████████| 50/50 [00:44<00:00,  1.11it/s]\n"
     ]
    }
   ],
   "source": [
    "# ip_file = '/fs/ess/scratch/PCON0022/mtduan/site1/'\n",
    "# rare_type = random.sample(list(rare_name),1)\n",
    "# ordinary_type = random.sample(list(ordinary_name),1)\n",
    "rare_type = ['Plasma cell']\n",
    "ordinary_type = ['CD8+ T']\n",
    "type_choice = ordinary_type + rare_type\n",
    "total_num = 2\n",
    "filetype_name = 'Ordinary1_Rare1'\n",
    "\n",
    "for file_num in tqdm(range(50)):\n",
    "    name_list =type_choice\n",
    "    l = list()\n",
    "    num_list = list()\n",
    "\n",
    "    for i in range(0,total_num):\n",
    "        if total_num == 2:\n",
    "            if i == 0:\n",
    "                l = l + random.sample(set(true_label[true_label==type_choice[i]].index),490)\n",
    "                num_list = num_list+['490']\n",
    "            else :\n",
    "                l = l + random.sample(set(true_label[true_label==type_choice[i]].index),10)\n",
    "                num_list = num_list+['10']\n",
    "        else:\n",
    "            if i == 0:\n",
    "                l = l + random.sample(set(true_label[true_label==type_choice[i]].index),480)\n",
    "                num_list = num_list+['480']\n",
    "            else:\n",
    "                l = l + random.sample(set(true_label[true_label==type_choice[i]].index),10)\n",
    "                num_list = num_list+['10']\n",
    "    l = np.sort(l)\n",
    "    label = true_label[l]\n",
    "    # file_name\n",
    "    file_name = ''\n",
    "    for i in range(total_num):\n",
    "        if i <total_num-1:\n",
    "            file_name = file_name +str(name_list[i])+str(num_list[i])+'_'\n",
    "        else:\n",
    "            file_name = file_name +str(name_list[i])+str(num_list[i])\n",
    "\n",
    "    Gene_Cell, Peak_Cell, Gene_Peak, gene_index, peak_index, cell_index = sub_anndatas(l,gene_cell,1,peak_cell,1,gene_peak)\n",
    "    #gene cell\n",
    "    RNA_matrix = Gene_Cell.X\n",
    "    #peak cell\n",
    "    ATAC_matrix = Peak_Cell.X\n",
    "    #gene peak\n",
    "    GP_matrix = Gene_Peak.X\n",
    "    \n",
    "    sub_gene_name = list(gene_names[0][gene_index])\n",
    "    sub_peak_name = list(peak_names[0][peak_index])\n",
    "    \n",
    "    # python_input\n",
    "    np.savetxt(ip_file+str(filetype_name)+'/'+str(file_num)+'/P_input'+'/RNA_'+file_name+'.txt', np.array([]))\n",
    "    np.save(ip_file+str(filetype_name)+'/'+str(file_num)+'/P_input'+'/label500.npy',label)\n",
    "    sparse.save_npz(ip_file+str(filetype_name)+'/'+str(file_num)+'/P_input'+'/RNA'+'.npz', RNA_matrix) \n",
    "    sparse.save_npz(ip_file+str(filetype_name)+'/'+str(file_num)+'/P_input'+'/ATAC'+'.npz', ATAC_matrix)\n",
    "    sparse.save_npz(ip_file+str(filetype_name)+'/'+str(file_num)+'/P_input'+'/Gene_Peak_'+'.npz', GP_matrix)\n",
    "    np.save(ip_file+str(filetype_name)+'/'+str(file_num)+'/P_input'+'/gene_name.npy',sub_gene_name)\n",
    "    np.save(ip_file+str(filetype_name)+'/'+str(file_num)+'/P_input'+'/peak_name.npy',sub_peak_name)\n",
    "    \n",
    "    ## R_input\n",
    "    site1_GEX = np.array(RNA_matrix.transpose().todense(),dtype='int64')\n",
    "    site1_ATAC = np.array(ATAC_matrix.transpose().todense(),dtype='int64')\n",
    "    site1_label = label\n",
    "    np.savetxt(ip_file+str(filetype_name)+'/'+str(file_num)+'/R_input/'+'site1_GEX.txt',site1_GEX,fmt=\"%d\")\n",
    "    np.savetxt(ip_file+str(filetype_name)+'/'+str(file_num)+'/R_input/'+'site1_ATAC.txt',site1_ATAC,fmt=\"%d\")\n",
    "    np.savetxt(ip_file+str(filetype_name)+'/'+str(file_num)+'/R_input/'+'site1_label.txt',site1_label,fmt=\"%s\")"
   ]
  },
  {
   "cell_type": "markdown",
   "id": "64356241",
   "metadata": {},
   "source": [
    "#### Sim-PBMC 2"
   ]
  },
  {
   "cell_type": "code",
   "execution_count": 12,
   "id": "b040c6e5",
   "metadata": {},
   "outputs": [
    {
     "name": "stderr",
     "output_type": "stream",
     "text": [
      "100%|██████████| 50/50 [00:44<00:00,  1.13it/s]\n"
     ]
    }
   ],
   "source": [
    "# ip_file = '/fs/ess/scratch/PCON0022/mtduan/site1/'\n",
    "# rare_type = random.sample(list(rare_name),2)\n",
    "# ordinary_type = random.sample(list(ordinary_name),1)\n",
    "rare_type = ['HSC','Plasma cell']\n",
    "ordinary_type = ['CD4+ T naive']\n",
    "type_choice = ordinary_type + rare_type\n",
    "total_num = 3\n",
    "filetype_name = 'Ordinary1_Rare2'\n",
    "\n",
    "for file_num in tqdm(range(50)):\n",
    "    name_list =type_choice\n",
    "    l = list()\n",
    "    num_list = list()\n",
    "\n",
    "    for i in range(0,total_num):\n",
    "        if total_num == 2:\n",
    "            if i == 0:\n",
    "                l = l + random.sample(set(true_label[true_label==type_choice[i]].index),490)\n",
    "                num_list = num_list+['490']\n",
    "            else :\n",
    "                l = l + random.sample(set(true_label[true_label==type_choice[i]].index),10)\n",
    "                num_list = num_list+['10']\n",
    "        else:\n",
    "            if i == 0:\n",
    "                l = l + random.sample(set(true_label[true_label==type_choice[i]].index),480)\n",
    "                num_list = num_list+['480']\n",
    "            else:\n",
    "                l = l + random.sample(set(true_label[true_label==type_choice[i]].index),10)\n",
    "                num_list = num_list+['10']\n",
    "    l = np.sort(l)\n",
    "    label = true_label[l]\n",
    "    # file_name\n",
    "    file_name = ''\n",
    "    for i in range(total_num):\n",
    "        if i <total_num-1:\n",
    "            file_name = file_name +str(name_list[i])+str(num_list[i])+'_'\n",
    "        else:\n",
    "            file_name = file_name +str(name_list[i])+str(num_list[i])\n",
    "\n",
    "    Gene_Cell, Peak_Cell, Gene_Peak, gene_index, peak_index, cell_index = sub_anndatas(l,gene_cell,1,peak_cell,1,gene_peak)\n",
    "    #gene cell\n",
    "    RNA_matrix = Gene_Cell.X\n",
    "    #peak cell\n",
    "    ATAC_matrix = Peak_Cell.X\n",
    "    #gene peak\n",
    "    GP_matrix = Gene_Peak.X\n",
    "    \n",
    "    sub_gene_name = list(gene_names[0][gene_index])\n",
    "    sub_peak_name = list(peak_names[0][peak_index])\n",
    "    \n",
    "    # python_input\n",
    "    np.savetxt(ip_file+str(filetype_name)+'/'+str(file_num)+'/P_input'+'/RNA_'+file_name+'.txt', np.array([]))\n",
    "    np.save(ip_file+str(filetype_name)+'/'+str(file_num)+'/P_input'+'/label500.npy',label)\n",
    "    sparse.save_npz(ip_file+str(filetype_name)+'/'+str(file_num)+'/P_input'+'/RNA'+'.npz', RNA_matrix) \n",
    "    sparse.save_npz(ip_file+str(filetype_name)+'/'+str(file_num)+'/P_input'+'/ATAC'+'.npz', ATAC_matrix)\n",
    "    sparse.save_npz(ip_file+str(filetype_name)+'/'+str(file_num)+'/P_input'+'/Gene_Peak_'+'.npz', GP_matrix)\n",
    "    np.save(ip_file+str(filetype_name)+'/'+str(file_num)+'/P_input'+'/gene_name.npy',sub_gene_name)\n",
    "    np.save(ip_file+str(filetype_name)+'/'+str(file_num)+'/P_input'+'/peak_name.npy',sub_peak_name)\n",
    "    \n",
    "    ## R_input\n",
    "    site1_GEX = np.array(RNA_matrix.transpose().todense(),dtype='int64')\n",
    "    site1_ATAC = np.array(ATAC_matrix.transpose().todense(),dtype='int64')\n",
    "    site1_label = label\n",
    "    np.savetxt(ip_file+str(filetype_name)+'/'+str(file_num)+'/R_input/'+'site1_GEX.txt',site1_GEX,fmt=\"%d\")\n",
    "    np.savetxt(ip_file+str(filetype_name)+'/'+str(file_num)+'/R_input/'+'site1_ATAC.txt',site1_ATAC,fmt=\"%d\")\n",
    "    np.savetxt(ip_file+str(filetype_name)+'/'+str(file_num)+'/R_input/'+'site1_label.txt',site1_label,fmt=\"%s\")"
   ]
  },
  {
   "cell_type": "markdown",
   "id": "311972c8",
   "metadata": {},
   "source": [
    "#### Sim-PBMC 3"
   ]
  },
  {
   "cell_type": "code",
   "execution_count": 15,
   "id": "bb65b75a",
   "metadata": {},
   "outputs": [
    {
     "name": "stderr",
     "output_type": "stream",
     "text": [
      "100%|██████████| 50/50 [00:43<00:00,  1.14it/s]\n"
     ]
    }
   ],
   "source": [
    "# ip_file = '/fs/ess/scratch/PCON0022/mtduan/site1/'\n",
    "# ordinary_type = random.sample(list(ordinary_name),2)\n",
    "ordinary_num = 2\n",
    "total_num = 2\n",
    "type_choice = ['CD8+ T','Erythroblast']\n",
    "filetype_name = 'Ordinary2'\n",
    "\n",
    "for file_num in tqdm(range(50)):\n",
    "    name_list =type_choice\n",
    "    l = list()\n",
    "    num_list = list()\n",
    "\n",
    "    for i in ['CD8+ T','Erythroblast']:\n",
    "        if (i == 'CD8+ T'):\n",
    "            l = l + random.sample(set(true_label[true_label==i].index),490)\n",
    "            num_list = num_list+['490']\n",
    "        elif (i == 'Erythroblast'):\n",
    "            l = l + random.sample(set(true_label[true_label==i].index),10) \n",
    "            num_list = num_list+['10']\n",
    "    l = np.sort(l)\n",
    "    \n",
    "    label = true_label[l]\n",
    "    # file_name\n",
    "    file_name = ''\n",
    "    for i in range(total_num):\n",
    "        if i <total_num-1:\n",
    "            file_name = file_name +str(name_list[i])+str(num_list[i])+'_'\n",
    "        else:\n",
    "            file_name = file_name +str(name_list[i])+str(num_list[i])\n",
    "\n",
    "    Gene_Cell, Peak_Cell, Gene_Peak, gene_index, peak_index, cell_index = sub_anndatas(l,gene_cell,1,peak_cell,1,gene_peak)\n",
    "    #gene cell\n",
    "    RNA_matrix = Gene_Cell.X\n",
    "    #peak cell\n",
    "    ATAC_matrix = Peak_Cell.X\n",
    "    #gene peak\n",
    "    GP_matrix = Gene_Peak.X\n",
    "    \n",
    "    sub_gene_name = list(gene_names[0][gene_index])\n",
    "    sub_peak_name = list(peak_names[0][peak_index])\n",
    "    \n",
    "    ## python_input\n",
    "    np.savetxt(ip_file+str(filetype_name)+'/'+str(file_num)+'/P_input'+'/RNA_'+file_name+'.txt', np.array([]))\n",
    "    np.save(ip_file+str(filetype_name)+'/'+str(file_num)+'/P_input'+'/label500.npy',label)\n",
    "    sparse.save_npz(ip_file+str(filetype_name)+'/'+str(file_num)+'/P_input'+'/RNA'+'.npz', RNA_matrix) \n",
    "    sparse.save_npz(ip_file+str(filetype_name)+'/'+str(file_num)+'/P_input'+'/ATAC'+'.npz', ATAC_matrix)\n",
    "    sparse.save_npz(ip_file+str(filetype_name)+'/'+str(file_num)+'/P_input'+'/Gene_Peak_'+'.npz', GP_matrix)\n",
    "    np.save(ip_file+str(filetype_name)+'/'+str(file_num)+'/P_input'+'/gene_name.npy',sub_gene_name)\n",
    "    np.save(ip_file+str(filetype_name)+'/'+str(file_num)+'/P_input'+'/peak_name.npy',sub_peak_name)\n",
    "    \n",
    "    ## R_input\n",
    "    site1_GEX = np.array(RNA_matrix.transpose().todense(),dtype='int64')\n",
    "    site1_ATAC = np.array(ATAC_matrix.transpose().todense(),dtype='int64')\n",
    "    site1_label = label\n",
    "    np.savetxt(ip_file+str(filetype_name)+'/'+str(file_num)+'/R_input/'+'site1_GEX.txt',site1_GEX,fmt=\"%d\")\n",
    "    np.savetxt(ip_file+str(filetype_name)+'/'+str(file_num)+'/R_input/'+'site1_ATAC.txt',site1_ATAC,fmt=\"%d\")\n",
    "    np.savetxt(ip_file+str(filetype_name)+'/'+str(file_num)+'/R_input/'+'site1_label.txt',site1_label,fmt=\"%s\")"
   ]
  },
  {
   "cell_type": "markdown",
   "id": "920bcd51",
   "metadata": {},
   "source": [
    "#### Sim-PBMC 4"
   ]
  },
  {
   "cell_type": "code",
   "execution_count": 16,
   "id": "1797bd86",
   "metadata": {},
   "outputs": [
    {
     "name": "stderr",
     "output_type": "stream",
     "text": [
      "100%|██████████| 50/50 [00:44<00:00,  1.13it/s]\n"
     ]
    }
   ],
   "source": [
    "# ip_file = '/fs/ess/scratch/PCON0022/mtduan/site1/'\n",
    "# ordinary_type = random.sample(list(ordinary_name),2)\n",
    "ordinary_num = 2\n",
    "total_num = 3\n",
    "type_choice = ['CD8+ T','Erythroblast','HSC']\n",
    "filetype_name = 'Ordinary2_Rare1'\n",
    "\n",
    "for file_num in tqdm(range(50)):\n",
    "    name_list = type_choice\n",
    "    l = list()\n",
    "    num_list = list()\n",
    "\n",
    "    for i in ['CD8+ T','Erythroblast','HSC']:\n",
    "        if (i == 'CD8+ T'):\n",
    "            l = l + random.sample(set(true_label[true_label==i].index),480)\n",
    "            num_list = num_list+['480']\n",
    "        elif (i == 'HSC'):\n",
    "            l = l + random.sample(set(true_label[true_label==i].index),10)\n",
    "            num_list = num_list+['10']\n",
    "        else:\n",
    "            l = l + random.sample(set(true_label[true_label==i].index),10)\n",
    "            num_list = num_list+['10']\n",
    "    l = np.sort(l)\n",
    "    \n",
    "    label = true_label[l]\n",
    "    # file_name\n",
    "    file_name = ''\n",
    "    for i in range(total_num):\n",
    "        if i <total_num-1:\n",
    "            file_name = file_name +str(name_list[i])+str(num_list[i])+'_'\n",
    "        else:\n",
    "            file_name = file_name +str(name_list[i])+str(num_list[i])\n",
    "\n",
    "    Gene_Cell, Peak_Cell, Gene_Peak, gene_index, peak_index, cell_index = sub_anndatas(l,gene_cell,1,peak_cell,1,gene_peak)\n",
    "    #gene cell\n",
    "    RNA_matrix = Gene_Cell.X\n",
    "    #peak cell\n",
    "    ATAC_matrix = Peak_Cell.X\n",
    "    #gene peak\n",
    "    GP_matrix = Gene_Peak.X\n",
    "    \n",
    "    sub_gene_name = list(gene_names[0][gene_index])\n",
    "    sub_peak_name = list(peak_names[0][peak_index])\n",
    "    \n",
    "    ## python_input\n",
    "    np.savetxt(ip_file+str(filetype_name)+'/'+str(file_num)+'/P_input'+'/RNA_'+file_name+'.txt', np.array([]))\n",
    "    np.save(ip_file+str(filetype_name)+'/'+str(file_num)+'/P_input'+'/label500.npy',label)\n",
    "    sparse.save_npz(ip_file+str(filetype_name)+'/'+str(file_num)+'/P_input'+'/RNA'+'.npz', RNA_matrix) \n",
    "    sparse.save_npz(ip_file+str(filetype_name)+'/'+str(file_num)+'/P_input'+'/ATAC'+'.npz', ATAC_matrix)\n",
    "    sparse.save_npz(ip_file+str(filetype_name)+'/'+str(file_num)+'/P_input'+'/Gene_Peak_'+'.npz', GP_matrix)\n",
    "    np.save(ip_file+str(filetype_name)+'/'+str(file_num)+'/P_input'+'/gene_name.npy',sub_gene_name)\n",
    "    np.save(ip_file+str(filetype_name)+'/'+str(file_num)+'/P_input'+'/peak_name.npy',sub_peak_name)\n",
    "    \n",
    "    ## R_input\n",
    "    site1_GEX = np.array(RNA_matrix.transpose().todense(),dtype='int64')\n",
    "    site1_ATAC = np.array(ATAC_matrix.transpose().todense(),dtype='int64')\n",
    "    site1_label = label\n",
    "    np.savetxt(ip_file+str(filetype_name)+'/'+str(file_num)+'/R_input/'+'site1_GEX.txt',site1_GEX,fmt=\"%d\")\n",
    "    np.savetxt(ip_file+str(filetype_name)+'/'+str(file_num)+'/R_input/'+'site1_ATAC.txt',site1_ATAC,fmt=\"%d\")\n",
    "    np.savetxt(ip_file+str(filetype_name)+'/'+str(file_num)+'/R_input/'+'site1_label.txt',site1_label,fmt=\"%s\")"
   ]
  },
  {
   "cell_type": "markdown",
   "id": "6d853577",
   "metadata": {},
   "source": [
    "#### Sim-PBMC 5"
   ]
  },
  {
   "cell_type": "code",
   "execution_count": 17,
   "id": "be7c5e6c",
   "metadata": {},
   "outputs": [
    {
     "name": "stderr",
     "output_type": "stream",
     "text": [
      "100%|██████████| 50/50 [00:44<00:00,  1.13it/s]\n"
     ]
    }
   ],
   "source": [
    "# ip_file = '/fs/ess/scratch/PCON0022/mtduan/site1/'\n",
    "# ordinary_type = random.sample(list(ordinary_name),2)\n",
    "ordinary_num = 3\n",
    "total_num = 3\n",
    "type_choice = ['CD8+ T','Erythroblast','Naive CD20+ B']\n",
    "filetype_name = 'Ordinary3'\n",
    "\n",
    "for file_num in tqdm(range(50)):\n",
    "    name_list =type_choice\n",
    "    l = list()\n",
    "    num_list = list()\n",
    "\n",
    "    for i in ['CD8+ T','Erythroblast','Naive CD20+ B']:\n",
    "        if (i == 'CD8+ T'):\n",
    "            l = l + random.sample(set(true_label[true_label==i].index),480)\n",
    "            num_list = num_list+['480']\n",
    "        elif (i == 'Erythroblast'):\n",
    "            l = l + random.sample(set(true_label[true_label==i].index),10)\n",
    "            num_list = num_list+['10']\n",
    "        else:\n",
    "            l = l + random.sample(set(true_label[true_label==i].index),10)\n",
    "            num_list = num_list+['10']\n",
    "    l = np.sort(l)\n",
    "    \n",
    "    label = true_label[l]\n",
    "    # file_name\n",
    "    file_name = ''\n",
    "    for i in range(total_num):\n",
    "        if i <total_num-1:\n",
    "            file_name = file_name +str(name_list[i])+str(num_list[i])+'_'\n",
    "        else:\n",
    "            file_name = file_name +str(name_list[i])+str(num_list[i])\n",
    "\n",
    "    Gene_Cell, Peak_Cell, Gene_Peak, gene_index, peak_index, cell_index = sub_anndatas(l,gene_cell,1,peak_cell,1,gene_peak)\n",
    "    #gene cell\n",
    "    RNA_matrix = Gene_Cell.X\n",
    "    #peak cell\n",
    "    ATAC_matrix = Peak_Cell.X\n",
    "    #gene peak\n",
    "    GP_matrix = Gene_Peak.X\n",
    "    \n",
    "    sub_gene_name = list(gene_names[0][gene_index])\n",
    "    sub_peak_name = list(peak_names[0][peak_index])\n",
    "    \n",
    "    ## python_input\n",
    "    np.savetxt(ip_file+str(filetype_name)+'/'+str(file_num)+'/P_input'+'/RNA_'+file_name+'.txt', np.array([]))\n",
    "    np.save(ip_file+str(filetype_name)+'/'+str(file_num)+'/P_input'+'/label500.npy',label)\n",
    "    sparse.save_npz(ip_file+str(filetype_name)+'/'+str(file_num)+'/P_input'+'/RNA'+'.npz', RNA_matrix) \n",
    "    sparse.save_npz(ip_file+str(filetype_name)+'/'+str(file_num)+'/P_input'+'/ATAC'+'.npz', ATAC_matrix)\n",
    "    sparse.save_npz(ip_file+str(filetype_name)+'/'+str(file_num)+'/P_input'+'/Gene_Peak_'+'.npz', GP_matrix)\n",
    "    np.save(ip_file+str(filetype_name)+'/'+str(file_num)+'/P_input'+'/gene_name.npy',sub_gene_name)\n",
    "    np.save(ip_file+str(filetype_name)+'/'+str(file_num)+'/P_input'+'/peak_name.npy',sub_peak_name)\n",
    "    \n",
    "    ## R_input\n",
    "    site1_GEX = np.array(RNA_matrix.transpose().todense(),dtype='int64')\n",
    "    site1_ATAC = np.array(ATAC_matrix.transpose().todense(),dtype='int64')\n",
    "    site1_label = label\n",
    "    np.savetxt(ip_file+str(filetype_name)+'/'+str(file_num)+'/R_input/'+'site1_GEX.txt',site1_GEX,fmt=\"%d\")\n",
    "    np.savetxt(ip_file+str(filetype_name)+'/'+str(file_num)+'/R_input/'+'site1_ATAC.txt',site1_ATAC,fmt=\"%d\")\n",
    "    np.savetxt(ip_file+str(filetype_name)+'/'+str(file_num)+'/R_input/'+'site1_label.txt',site1_label,fmt=\"%s\")"
   ]
  },
  {
   "cell_type": "markdown",
   "id": "9c52ed10",
   "metadata": {},
   "source": [
    "#### Sim-PBMC 6"
   ]
  },
  {
   "cell_type": "code",
   "execution_count": 21,
   "id": "546c59d5",
   "metadata": {},
   "outputs": [],
   "source": [
    "def sub_anndatas(index,ad1,dim1,ad2,dim2,ad3):\n",
    "    def sub_ad(ad,id,dim):\n",
    "        if dim == 0:\n",
    "            ad = ad[id,:]\n",
    "        elif dim == 1:\n",
    "            ad = ad[:,id]\n",
    "        return(ad)\n",
    "\n",
    "    # sub sample\n",
    "    ad1 = sub_ad(ad1,index,dim1)\n",
    "    ad2 = sub_ad(ad2,index,dim2)\n",
    "\n",
    "    # delete feature1 and feature2 not in sample\n",
    "    index1 = np.where(np.array(ad1.X.sum(dim1)).squeeze()>0)[0]\n",
    "    index2 = np.where(np.array(ad2.X.sum(dim2)).squeeze()>0)[0]\n",
    "    ad1 = sub_ad(ad1,index1,1-dim1)\n",
    "    ad2 = sub_ad(ad2,index2,1-dim2)\n",
    "    ad3 = sub_ad(sub_ad(ad3,index1,0),index2,1)\n",
    "\n",
    "    # delet feature1 and feature2 not link\n",
    "    index1 = np.where(np.array(ad3.X.sum(1)).squeeze()>0)[0]\n",
    "    index2 = np.where(np.array(ad3.X.sum(0)).squeeze()>0)[0]\n",
    "    ad1 = sub_ad(ad1,index1,1-dim1)\n",
    "    ad2 = sub_ad(ad2,index2,1-dim2)\n",
    "    ad3 = sub_ad(sub_ad(ad3,index1,0),index2,1)\n",
    "\n",
    "    #delet sample don't in features\n",
    "    index = np.where((np.array(ad1.X.sum(1-dim1)).squeeze()>0) & (np.array(ad2.X.sum(1-dim2)).squeeze()>0))[0]\n",
    "    ad1 = sub_ad(ad1,index,dim1)\n",
    "    ad2 = sub_ad(ad2,index,dim2)\n",
    "    return (ad1,ad2,ad3)"
   ]
  },
  {
   "cell_type": "code",
   "execution_count": 22,
   "id": "28ac8fd8",
   "metadata": {},
   "outputs": [
    {
     "name": "stderr",
     "output_type": "stream",
     "text": [
      "100%|██████████| 50/50 [00:44<00:00,  1.12it/s]\n"
     ]
    }
   ],
   "source": [
    "# ip_file = '/fs/ess/scratch/PCON0022/mtduan/site1/'\n",
    "# ordinary_type = random.sample(list(ordinary_name),2)\n",
    "ordinary_num = 2\n",
    "total_num = 2\n",
    "type_choice = ['CD14+ Mono','CD8+ T']\n",
    "\n",
    "for file_num in tqdm(range(50)):\n",
    "    name_list =type_choice\n",
    "    l = list()\n",
    "    num_list = list()\n",
    "\n",
    "    for i in range(0,total_num):\n",
    "        if total_num == 2:\n",
    "            if i == 0:\n",
    "                l = l + random.sample(set(true_label[true_label==type_choice[i]].index),250)\n",
    "                num_list = num_list+['250']\n",
    "            else :\n",
    "                l = l + random.sample(set(true_label[true_label==type_choice[i]].index),250)\n",
    "                num_list = num_list+['250']\n",
    "\n",
    "    # file_name\n",
    "    file_name = ''\n",
    "    for i in range(total_num):\n",
    "        if i <total_num-1:\n",
    "            file_name = file_name +str(name_list[i])+str(num_list[i])+'_'\n",
    "        else:\n",
    "            file_name = file_name +str(name_list[i])+str(num_list[i])\n",
    "\n",
    "    label = true_label[l]\n",
    "    Gene_Cell, Peak_Cell, Gene_Peak = sub_anndatas(l,gene_cell,1,peak_cell,1,gene_peak)\n",
    "    #gene cell\n",
    "    RNA_matrix = Gene_Cell.X\n",
    "    #peak cell\n",
    "    ATAC_matrix = Peak_Cell.X\n",
    "    #gene peak\n",
    "    RP_matrix = Gene_Peak.X\n",
    "\n",
    "    os.mkdir(str(file_num))\n",
    "    \n",
    "    np.save(ip_file+str(file_num)+'/label500.npy',label)\n",
    "    sparse.save_npz(ip_file+str(file_num)+'/RNA_'+file_name+'.npz', RNA_matrix) \n",
    "    sparse.save_npz(ip_file+str(file_num)+'/ATAC_'+file_name+'.npz', ATAC_matrix) "
   ]
  },
  {
   "cell_type": "markdown",
   "id": "8fded581",
   "metadata": {},
   "source": [
    "#### Sim-PBMC 7-9"
   ]
  },
  {
   "cell_type": "code",
   "execution_count": 38,
   "id": "42f6e843",
   "metadata": {},
   "outputs": [],
   "source": [
    "os.chdir('/fs/ess/PCON0022/dmt/data/dataset/data1/')\n",
    "cell_type = pd.read_csv('cell_type.csv', index_col=0)\n",
    "\n",
    "gene_peak = anndata.read_mtx('Gene_Peak.mtx')\n",
    "gene_cell = anndata.read_mtx('Gene_Cell.mtx')\n",
    "peak_cell = anndata.read_mtx('Peak_Cell.mtx')\n",
    "gene_names = pd.read_csv('Gene_names.tsv', sep='\\t', header=None)\n",
    "cell_names = pd.read_csv('Cell_names.tsv', sep='\\t', header=None)\n",
    "peak_names = pd.read_csv('Peak_names.tsv', sep='\\t', header=None)\n",
    "peak_cell.obs_names = peak_names[0]\n",
    "peak_cell.var_names = cell_names[0]\n",
    "gene_cell.obs_names = gene_names[0]\n",
    "gene_cell.var_names = cell_names[0]\n",
    "gene_peak.obs_names = gene_names[0]\n",
    "gene_peak.var_names = peak_names[0]"
   ]
  },
  {
   "cell_type": "code",
   "execution_count": 39,
   "id": "3eafe742",
   "metadata": {},
   "outputs": [],
   "source": [
    "#Gene_Cell, Peak_Cell, Gene_Peak = gene_cell,peak_cell,gene_peak\n",
    "true_label = cell_type.loc[cell_names[0].tolist(), :]\n",
    "cell_type['number'] = 1\n",
    "cell_count = cell_type.groupby('cell_type').count()\n",
    "cell_count =cell_count.sort_values(by='number',ascending=True, inplace=False)"
   ]
  },
  {
   "cell_type": "code",
   "execution_count": 40,
   "id": "c7123704",
   "metadata": {},
   "outputs": [
    {
     "data": {
      "text/html": [
       "<div>\n",
       "<style scoped>\n",
       "    .dataframe tbody tr th:only-of-type {\n",
       "        vertical-align: middle;\n",
       "    }\n",
       "\n",
       "    .dataframe tbody tr th {\n",
       "        vertical-align: top;\n",
       "    }\n",
       "\n",
       "    .dataframe thead th {\n",
       "        text-align: right;\n",
       "    }\n",
       "</style>\n",
       "<table border=\"1\" class=\"dataframe\">\n",
       "  <thead>\n",
       "    <tr style=\"text-align: right;\">\n",
       "      <th></th>\n",
       "      <th>number</th>\n",
       "      <th>percentage</th>\n",
       "    </tr>\n",
       "    <tr>\n",
       "      <th>cell_type</th>\n",
       "      <th></th>\n",
       "      <th></th>\n",
       "    </tr>\n",
       "  </thead>\n",
       "  <tbody>\n",
       "    <tr>\n",
       "      <th>ID2-hi myeloid prog</th>\n",
       "      <td>108</td>\n",
       "      <td>0.001560</td>\n",
       "    </tr>\n",
       "    <tr>\n",
       "      <th>Plasma cell</th>\n",
       "      <td>379</td>\n",
       "      <td>0.005473</td>\n",
       "    </tr>\n",
       "    <tr>\n",
       "      <th>ILC</th>\n",
       "      <td>835</td>\n",
       "      <td>0.012058</td>\n",
       "    </tr>\n",
       "    <tr>\n",
       "      <th>cDC2</th>\n",
       "      <td>859</td>\n",
       "      <td>0.012405</td>\n",
       "    </tr>\n",
       "    <tr>\n",
       "      <th>MK/E prog</th>\n",
       "      <td>884</td>\n",
       "      <td>0.012766</td>\n",
       "    </tr>\n",
       "    <tr>\n",
       "      <th>CD8+ T naive</th>\n",
       "      <td>1012</td>\n",
       "      <td>0.014614</td>\n",
       "    </tr>\n",
       "    <tr>\n",
       "      <th>HSC</th>\n",
       "      <td>1072</td>\n",
       "      <td>0.015480</td>\n",
       "    </tr>\n",
       "    <tr>\n",
       "      <th>pDC</th>\n",
       "      <td>1191</td>\n",
       "      <td>0.017199</td>\n",
       "    </tr>\n",
       "    <tr>\n",
       "      <th>G/M prog</th>\n",
       "      <td>1203</td>\n",
       "      <td>0.017372</td>\n",
       "    </tr>\n",
       "    <tr>\n",
       "      <th>Lymph prog</th>\n",
       "      <td>1779</td>\n",
       "      <td>0.025690</td>\n",
       "    </tr>\n",
       "    <tr>\n",
       "      <th>Normoblast</th>\n",
       "      <td>1780</td>\n",
       "      <td>0.025704</td>\n",
       "    </tr>\n",
       "    <tr>\n",
       "      <th>B1 B</th>\n",
       "      <td>1890</td>\n",
       "      <td>0.027293</td>\n",
       "    </tr>\n",
       "    <tr>\n",
       "      <th>CD16+ Mono</th>\n",
       "      <td>1894</td>\n",
       "      <td>0.027351</td>\n",
       "    </tr>\n",
       "    <tr>\n",
       "      <th>Proerythroblast</th>\n",
       "      <td>2300</td>\n",
       "      <td>0.033213</td>\n",
       "    </tr>\n",
       "    <tr>\n",
       "      <th>Transitional B</th>\n",
       "      <td>2810</td>\n",
       "      <td>0.040578</td>\n",
       "    </tr>\n",
       "    <tr>\n",
       "      <th>CD4+ T naive</th>\n",
       "      <td>4398</td>\n",
       "      <td>0.063510</td>\n",
       "    </tr>\n",
       "    <tr>\n",
       "      <th>Erythroblast</th>\n",
       "      <td>4916</td>\n",
       "      <td>0.070990</td>\n",
       "    </tr>\n",
       "    <tr>\n",
       "      <th>Naive CD20+ B</th>\n",
       "      <td>5052</td>\n",
       "      <td>0.072954</td>\n",
       "    </tr>\n",
       "    <tr>\n",
       "      <th>CD4+ T activated</th>\n",
       "      <td>5526</td>\n",
       "      <td>0.079799</td>\n",
       "    </tr>\n",
       "    <tr>\n",
       "      <th>NK</th>\n",
       "      <td>6929</td>\n",
       "      <td>0.100059</td>\n",
       "    </tr>\n",
       "    <tr>\n",
       "      <th>CD14+ Mono</th>\n",
       "      <td>10843</td>\n",
       "      <td>0.156580</td>\n",
       "    </tr>\n",
       "    <tr>\n",
       "      <th>CD8+ T</th>\n",
       "      <td>11589</td>\n",
       "      <td>0.167353</td>\n",
       "    </tr>\n",
       "  </tbody>\n",
       "</table>\n",
       "</div>"
      ],
      "text/plain": [
       "                     number  percentage\n",
       "cell_type                              \n",
       "ID2-hi myeloid prog     108    0.001560\n",
       "Plasma cell             379    0.005473\n",
       "ILC                     835    0.012058\n",
       "cDC2                    859    0.012405\n",
       "MK/E prog               884    0.012766\n",
       "CD8+ T naive           1012    0.014614\n",
       "HSC                    1072    0.015480\n",
       "pDC                    1191    0.017199\n",
       "G/M prog               1203    0.017372\n",
       "Lymph prog             1779    0.025690\n",
       "Normoblast             1780    0.025704\n",
       "B1 B                   1890    0.027293\n",
       "CD16+ Mono             1894    0.027351\n",
       "Proerythroblast        2300    0.033213\n",
       "Transitional B         2810    0.040578\n",
       "CD4+ T naive           4398    0.063510\n",
       "Erythroblast           4916    0.070990\n",
       "Naive CD20+ B          5052    0.072954\n",
       "CD4+ T activated       5526    0.079799\n",
       "NK                     6929    0.100059\n",
       "CD14+ Mono            10843    0.156580\n",
       "CD8+ T                11589    0.167353"
      ]
     },
     "execution_count": 40,
     "metadata": {},
     "output_type": "execute_result"
    }
   ],
   "source": [
    "cell_count['percentage'] = (cell_count['number'] / cell_count['number'].sum())\n",
    "cell_count"
   ]
  },
  {
   "cell_type": "code",
   "execution_count": 41,
   "id": "9ae60f05",
   "metadata": {},
   "outputs": [
    {
     "name": "stdout",
     "output_type": "stream",
     "text": [
      "Cell type: Plasma cell, Proportion: 0.004\n",
      "Cell type: HSC, Proportion: 0.006\n",
      "Cell type: ID2-hi myeloid prog, Proportion: 0.006\n",
      "Cell type: G/M prog, Proportion: 0.008\n",
      "Cell type: Lymph prog, Proportion: 0.008\n",
      "Cell type: MK/E prog, Proportion: 0.009\n",
      "Cell type: Transitional B, Proportion: 0.010\n",
      "Cell type: pDC, Proportion: 0.010\n",
      "Cell type: CD8+ T naive, Proportion: 0.012\n",
      "Cell type: cDC2, Proportion: 0.012\n",
      "Cell type: Proerythroblast, Proportion: 0.012\n",
      "Cell type: CD16+ Mono, Proportion: 0.016\n",
      "Cell type: B1 B, Proportion: 0.023\n",
      "Cell type: Normoblast, Proportion: 0.032\n",
      "Cell type: ILC, Proportion: 0.034\n",
      "Cell type: Naive CD20+ B, Proportion: 0.037\n",
      "Cell type: Erythroblast, Proportion: 0.076\n",
      "Cell type: CD14+ Mono, Proportion: 0.108\n",
      "Cell type: CD4+ T activated, Proportion: 0.112\n",
      "Cell type: NK, Proportion: 0.132\n",
      "Cell type: CD4+ T naive, Proportion: 0.137\n",
      "Cell type: CD8+ T, Proportion: 0.196\n"
     ]
    }
   ],
   "source": [
    "# Reset index\n",
    "cell_df = true_label.reset_index(drop=True)\n",
    "\n",
    "# Group by cell type to get the corresponding index list\n",
    "cell_type_dict = cell_df.groupby('cell_type').apply(lambda x: x.index.tolist()).to_dict()\n",
    "\n",
    "# Sort the dictionary based on the number of cells in each type\n",
    "sorted_cell_type_dict = {k: v for k, v in sorted(cell_type_dict.items(), key=lambda item: len(item[1]))}\n",
    "\n",
    "# Get the lengths of each cell type's indices\n",
    "lengths = [len(indices) for indices in sorted_cell_type_dict.values()]\n",
    "\n",
    "# Calculate the total count\n",
    "total = sum(lengths)\n",
    "\n",
    "# Print the proportion of each cell type\n",
    "for cell_type, indices in sorted_cell_type_dict.items():\n",
    "    proportion = len(indices) / total\n",
    "    print(f\"Cell type: {cell_type}, Proportion: {proportion:.3f}\")\n",
    "    \n",
    "# Uncomment the lines below to print the keys and lengths of the sorted dictionary\n",
    "# print(sorted_cell_type_dict.keys())\n",
    "# for cell_type, indices in sorted_cell_type_dict.items():\n",
    "#     print(f\"Cell type: {cell_type}, Length: {len(indices)}\")"
   ]
  },
  {
   "cell_type": "markdown",
   "id": "989c7c69",
   "metadata": {},
   "source": [
    "#### Sim-PBMC 7"
   ]
  },
  {
   "cell_type": "code",
   "execution_count": null,
   "id": "82e25c7a",
   "metadata": {},
   "outputs": [],
   "source": [
    "import numpy as np\n",
    "import random\n",
    "\n",
    "def sample_cells(cell_type_dict, total_samples=5000):\n",
    "    # Extract all cell types\n",
    "    cell_types = list(cell_type_dict.keys())\n",
    "    \n",
    "    # The last 4 types must be sampled\n",
    "    fixed_types = cell_types[-4:]\n",
    "    \n",
    "    # Randomly select 1 cell type from the first types\n",
    "    random_type = random.choice(cell_types[:2])\n",
    "    \n",
    "    # Combine these 5 types\n",
    "    sample_types = fixed_types + [random_type]\n",
    "    \n",
    "    # Calculate the proportion of each cell type within the selected types\n",
    "    type_counts = {cell_type: len(cells) for cell_type, cells in cell_type_dict.items() if cell_type in sample_types}\n",
    "    total_count = sum(type_counts.values()) - 50 if random_type in type_counts else 0\n",
    "    type_ratio = {cell_type: count / total_count for cell_type, count in type_counts.items() if cell_type != random_type}\n",
    "    \n",
    "    # Sample these cell types proportionally to a total of 5000\n",
    "    sample_counts = {cell_type: int(np.round(ratio * total_samples)) for cell_type, ratio in type_ratio.items()}\n",
    "    \n",
    "    # Find the difference between the total number of samples and 5000 (including the fixed 50), then allocate this difference to the cell type with the largest sample count\n",
    "    diff = total_samples - sum(sample_counts.values()) - 50\n",
    "    max_type = max(sample_counts, key=sample_counts.get)\n",
    "    sample_counts[max_type] += diff\n",
    "    \n",
    "    # Perform sampling\n",
    "    sample_indices = []\n",
    "    for cell_type, count in sample_counts.items():\n",
    "        cells = cell_type_dict[cell_type]\n",
    "        if len(cells) > count:\n",
    "            cells = np.random.choice(cells, size=count, replace=False)\n",
    "        sample_indices.extend(cells)\n",
    "    \n",
    "    # Additionally sample 50 samples from the selected random type\n",
    "    cells = cell_type_dict[random_type]\n",
    "    if len(cells) > 50:\n",
    "        cells = np.random.choice(cells, size=50, replace=False)\n",
    "    sample_indices.extend(cells)\n",
    "        \n",
    "    return sample_indices"
   ]
  },
  {
   "cell_type": "code",
   "execution_count": 29,
   "id": "e6ab976e",
   "metadata": {},
   "outputs": [
    {
     "name": "stderr",
     "output_type": "stream",
     "text": [
      "  2%|▏         | 1/50 [00:00<00:24,  2.01it/s]"
     ]
    },
    {
     "name": "stdout",
     "output_type": "stream",
     "text": [
      "sub_gene_cell.shape: (12152, 5000)\n",
      "sub_peak_cell.shape: (116490, 5000)\n"
     ]
    },
    {
     "name": "stderr",
     "output_type": "stream",
     "text": [
      "\r",
      "  4%|▍         | 2/50 [00:00<00:21,  2.20it/s]"
     ]
    },
    {
     "name": "stdout",
     "output_type": "stream",
     "text": [
      "sub_gene_cell.shape: (12152, 5000)\n",
      "sub_peak_cell.shape: (116490, 5000)\n"
     ]
    },
    {
     "name": "stderr",
     "output_type": "stream",
     "text": [
      "\r",
      "  6%|▌         | 3/50 [00:01<00:20,  2.28it/s]"
     ]
    },
    {
     "name": "stdout",
     "output_type": "stream",
     "text": [
      "sub_gene_cell.shape: (12152, 5000)\n",
      "sub_peak_cell.shape: (116490, 5000)\n"
     ]
    },
    {
     "name": "stderr",
     "output_type": "stream",
     "text": [
      "\r",
      "  8%|▊         | 4/50 [00:01<00:19,  2.31it/s]"
     ]
    },
    {
     "name": "stdout",
     "output_type": "stream",
     "text": [
      "sub_gene_cell.shape: (12152, 5000)\n",
      "sub_peak_cell.shape: (116490, 5000)\n"
     ]
    },
    {
     "name": "stderr",
     "output_type": "stream",
     "text": [
      "\r",
      " 10%|█         | 5/50 [00:02<00:19,  2.34it/s]"
     ]
    },
    {
     "name": "stdout",
     "output_type": "stream",
     "text": [
      "sub_gene_cell.shape: (12152, 5000)\n",
      "sub_peak_cell.shape: (116490, 5000)\n"
     ]
    },
    {
     "name": "stderr",
     "output_type": "stream",
     "text": [
      "\r",
      " 12%|█▏        | 6/50 [00:02<00:18,  2.35it/s]"
     ]
    },
    {
     "name": "stdout",
     "output_type": "stream",
     "text": [
      "sub_gene_cell.shape: (12152, 5000)\n",
      "sub_peak_cell.shape: (116490, 5000)\n"
     ]
    },
    {
     "name": "stderr",
     "output_type": "stream",
     "text": [
      "\r",
      " 14%|█▍        | 7/50 [00:03<00:18,  2.37it/s]"
     ]
    },
    {
     "name": "stdout",
     "output_type": "stream",
     "text": [
      "sub_gene_cell.shape: (12152, 5000)\n",
      "sub_peak_cell.shape: (116490, 5000)\n"
     ]
    },
    {
     "name": "stderr",
     "output_type": "stream",
     "text": [
      "\r",
      " 16%|█▌        | 8/50 [00:03<00:17,  2.37it/s]"
     ]
    },
    {
     "name": "stdout",
     "output_type": "stream",
     "text": [
      "sub_gene_cell.shape: (12152, 5000)\n",
      "sub_peak_cell.shape: (116490, 5000)\n"
     ]
    },
    {
     "name": "stderr",
     "output_type": "stream",
     "text": [
      "\r",
      " 18%|█▊        | 9/50 [00:03<00:17,  2.40it/s]"
     ]
    },
    {
     "name": "stdout",
     "output_type": "stream",
     "text": [
      "sub_gene_cell.shape: (12152, 5000)\n",
      "sub_peak_cell.shape: (116490, 5000)\n"
     ]
    },
    {
     "name": "stderr",
     "output_type": "stream",
     "text": [
      "\r",
      " 20%|██        | 10/50 [00:04<00:16,  2.39it/s]"
     ]
    },
    {
     "name": "stdout",
     "output_type": "stream",
     "text": [
      "sub_gene_cell.shape: (12152, 5000)\n",
      "sub_peak_cell.shape: (116490, 5000)\n"
     ]
    },
    {
     "name": "stderr",
     "output_type": "stream",
     "text": [
      "\r",
      " 22%|██▏       | 11/50 [00:04<00:16,  2.40it/s]"
     ]
    },
    {
     "name": "stdout",
     "output_type": "stream",
     "text": [
      "sub_gene_cell.shape: (12152, 5000)\n",
      "sub_peak_cell.shape: (116490, 5000)\n"
     ]
    },
    {
     "name": "stderr",
     "output_type": "stream",
     "text": [
      "\r",
      " 24%|██▍       | 12/50 [00:05<00:15,  2.39it/s]"
     ]
    },
    {
     "name": "stdout",
     "output_type": "stream",
     "text": [
      "sub_gene_cell.shape: (12152, 5000)\n",
      "sub_peak_cell.shape: (116490, 5000)\n"
     ]
    },
    {
     "name": "stderr",
     "output_type": "stream",
     "text": [
      "\r",
      " 26%|██▌       | 13/50 [00:05<00:15,  2.41it/s]"
     ]
    },
    {
     "name": "stdout",
     "output_type": "stream",
     "text": [
      "sub_gene_cell.shape: (12152, 5000)\n",
      "sub_peak_cell.shape: (116490, 5000)\n"
     ]
    },
    {
     "name": "stderr",
     "output_type": "stream",
     "text": [
      "\r",
      " 28%|██▊       | 14/50 [00:05<00:15,  2.40it/s]"
     ]
    },
    {
     "name": "stdout",
     "output_type": "stream",
     "text": [
      "sub_gene_cell.shape: (12152, 5000)\n",
      "sub_peak_cell.shape: (116490, 5000)\n"
     ]
    },
    {
     "name": "stderr",
     "output_type": "stream",
     "text": [
      "\r",
      " 30%|███       | 15/50 [00:06<00:14,  2.40it/s]"
     ]
    },
    {
     "name": "stdout",
     "output_type": "stream",
     "text": [
      "sub_gene_cell.shape: (12152, 5000)\n",
      "sub_peak_cell.shape: (116490, 5000)\n"
     ]
    },
    {
     "name": "stderr",
     "output_type": "stream",
     "text": [
      "\r",
      " 32%|███▏      | 16/50 [00:06<00:14,  2.38it/s]"
     ]
    },
    {
     "name": "stdout",
     "output_type": "stream",
     "text": [
      "sub_gene_cell.shape: (12152, 5000)\n",
      "sub_peak_cell.shape: (116490, 5000)\n"
     ]
    },
    {
     "name": "stderr",
     "output_type": "stream",
     "text": [
      "\r",
      " 34%|███▍      | 17/50 [00:07<00:13,  2.39it/s]"
     ]
    },
    {
     "name": "stdout",
     "output_type": "stream",
     "text": [
      "sub_gene_cell.shape: (12152, 5000)\n",
      "sub_peak_cell.shape: (116490, 5000)\n"
     ]
    },
    {
     "name": "stderr",
     "output_type": "stream",
     "text": [
      "\r",
      " 36%|███▌      | 18/50 [00:07<00:13,  2.38it/s]"
     ]
    },
    {
     "name": "stdout",
     "output_type": "stream",
     "text": [
      "sub_gene_cell.shape: (12152, 5000)\n",
      "sub_peak_cell.shape: (116490, 5000)\n"
     ]
    },
    {
     "name": "stderr",
     "output_type": "stream",
     "text": [
      "\r",
      " 38%|███▊      | 19/50 [00:08<00:13,  2.37it/s]"
     ]
    },
    {
     "name": "stdout",
     "output_type": "stream",
     "text": [
      "sub_gene_cell.shape: (12152, 5000)\n",
      "sub_peak_cell.shape: (116490, 5000)\n"
     ]
    },
    {
     "name": "stderr",
     "output_type": "stream",
     "text": [
      "\r",
      " 40%|████      | 20/50 [00:08<00:12,  2.37it/s]"
     ]
    },
    {
     "name": "stdout",
     "output_type": "stream",
     "text": [
      "sub_gene_cell.shape: (12152, 5000)\n",
      "sub_peak_cell.shape: (116490, 5000)\n"
     ]
    },
    {
     "name": "stderr",
     "output_type": "stream",
     "text": [
      "\r",
      " 42%|████▏     | 21/50 [00:08<00:12,  2.37it/s]"
     ]
    },
    {
     "name": "stdout",
     "output_type": "stream",
     "text": [
      "sub_gene_cell.shape: (12152, 5000)\n",
      "sub_peak_cell.shape: (116490, 5000)\n"
     ]
    },
    {
     "name": "stderr",
     "output_type": "stream",
     "text": [
      "\r",
      " 44%|████▍     | 22/50 [00:09<00:11,  2.39it/s]"
     ]
    },
    {
     "name": "stdout",
     "output_type": "stream",
     "text": [
      "sub_gene_cell.shape: (12152, 5000)\n",
      "sub_peak_cell.shape: (116490, 5000)\n"
     ]
    },
    {
     "name": "stderr",
     "output_type": "stream",
     "text": [
      "\r",
      " 46%|████▌     | 23/50 [00:09<00:11,  2.40it/s]"
     ]
    },
    {
     "name": "stdout",
     "output_type": "stream",
     "text": [
      "sub_gene_cell.shape: (12152, 5000)\n",
      "sub_peak_cell.shape: (116490, 5000)\n"
     ]
    },
    {
     "name": "stderr",
     "output_type": "stream",
     "text": [
      "\r",
      " 48%|████▊     | 24/50 [00:10<00:10,  2.42it/s]"
     ]
    },
    {
     "name": "stdout",
     "output_type": "stream",
     "text": [
      "sub_gene_cell.shape: (12152, 5000)\n",
      "sub_peak_cell.shape: (116490, 5000)\n"
     ]
    },
    {
     "name": "stderr",
     "output_type": "stream",
     "text": [
      "\r",
      " 50%|█████     | 25/50 [00:10<00:10,  2.40it/s]"
     ]
    },
    {
     "name": "stdout",
     "output_type": "stream",
     "text": [
      "sub_gene_cell.shape: (12152, 5000)\n",
      "sub_peak_cell.shape: (116490, 5000)\n"
     ]
    },
    {
     "name": "stderr",
     "output_type": "stream",
     "text": [
      "\r",
      " 52%|█████▏    | 26/50 [00:10<00:09,  2.41it/s]"
     ]
    },
    {
     "name": "stdout",
     "output_type": "stream",
     "text": [
      "sub_gene_cell.shape: (12152, 5000)\n",
      "sub_peak_cell.shape: (116490, 5000)\n"
     ]
    },
    {
     "name": "stderr",
     "output_type": "stream",
     "text": [
      "\r",
      " 54%|█████▍    | 27/50 [00:11<00:09,  2.39it/s]"
     ]
    },
    {
     "name": "stdout",
     "output_type": "stream",
     "text": [
      "sub_gene_cell.shape: (12152, 5000)\n",
      "sub_peak_cell.shape: (116490, 5000)\n"
     ]
    },
    {
     "name": "stderr",
     "output_type": "stream",
     "text": [
      "\r",
      " 56%|█████▌    | 28/50 [00:11<00:09,  2.41it/s]"
     ]
    },
    {
     "name": "stdout",
     "output_type": "stream",
     "text": [
      "sub_gene_cell.shape: (12152, 5000)\n",
      "sub_peak_cell.shape: (116490, 5000)\n"
     ]
    },
    {
     "name": "stderr",
     "output_type": "stream",
     "text": [
      "\r",
      " 58%|█████▊    | 29/50 [00:12<00:08,  2.40it/s]"
     ]
    },
    {
     "name": "stdout",
     "output_type": "stream",
     "text": [
      "sub_gene_cell.shape: (12152, 5000)\n",
      "sub_peak_cell.shape: (116490, 5000)\n"
     ]
    },
    {
     "name": "stderr",
     "output_type": "stream",
     "text": [
      "\r",
      " 60%|██████    | 30/50 [00:12<00:08,  2.40it/s]"
     ]
    },
    {
     "name": "stdout",
     "output_type": "stream",
     "text": [
      "sub_gene_cell.shape: (12152, 5000)\n",
      "sub_peak_cell.shape: (116490, 5000)\n"
     ]
    },
    {
     "name": "stderr",
     "output_type": "stream",
     "text": [
      "\r",
      " 62%|██████▏   | 31/50 [00:13<00:07,  2.39it/s]"
     ]
    },
    {
     "name": "stdout",
     "output_type": "stream",
     "text": [
      "sub_gene_cell.shape: (12152, 5000)\n",
      "sub_peak_cell.shape: (116490, 5000)\n"
     ]
    },
    {
     "name": "stderr",
     "output_type": "stream",
     "text": [
      "\r",
      " 64%|██████▍   | 32/50 [00:13<00:07,  2.41it/s]"
     ]
    },
    {
     "name": "stdout",
     "output_type": "stream",
     "text": [
      "sub_gene_cell.shape: (12152, 5000)\n",
      "sub_peak_cell.shape: (116490, 5000)\n"
     ]
    },
    {
     "name": "stderr",
     "output_type": "stream",
     "text": [
      "\r",
      " 66%|██████▌   | 33/50 [00:13<00:07,  2.40it/s]"
     ]
    },
    {
     "name": "stdout",
     "output_type": "stream",
     "text": [
      "sub_gene_cell.shape: (12152, 5000)\n",
      "sub_peak_cell.shape: (116490, 5000)\n"
     ]
    },
    {
     "name": "stderr",
     "output_type": "stream",
     "text": [
      "\r",
      " 68%|██████▊   | 34/50 [00:14<00:06,  2.40it/s]"
     ]
    },
    {
     "name": "stdout",
     "output_type": "stream",
     "text": [
      "sub_gene_cell.shape: (12152, 5000)\n",
      "sub_peak_cell.shape: (116490, 5000)\n"
     ]
    },
    {
     "name": "stderr",
     "output_type": "stream",
     "text": [
      "\r",
      " 70%|███████   | 35/50 [00:14<00:06,  2.39it/s]"
     ]
    },
    {
     "name": "stdout",
     "output_type": "stream",
     "text": [
      "sub_gene_cell.shape: (12152, 5000)\n",
      "sub_peak_cell.shape: (116490, 5000)\n"
     ]
    },
    {
     "name": "stderr",
     "output_type": "stream",
     "text": [
      "\r",
      " 72%|███████▏  | 36/50 [00:15<00:05,  2.40it/s]"
     ]
    },
    {
     "name": "stdout",
     "output_type": "stream",
     "text": [
      "sub_gene_cell.shape: (12152, 5000)\n",
      "sub_peak_cell.shape: (116490, 5000)\n"
     ]
    },
    {
     "name": "stderr",
     "output_type": "stream",
     "text": [
      "\r",
      " 74%|███████▍  | 37/50 [00:15<00:05,  2.39it/s]"
     ]
    },
    {
     "name": "stdout",
     "output_type": "stream",
     "text": [
      "sub_gene_cell.shape: (12152, 5000)\n",
      "sub_peak_cell.shape: (116490, 5000)\n"
     ]
    },
    {
     "name": "stderr",
     "output_type": "stream",
     "text": [
      "\r",
      " 76%|███████▌  | 38/50 [00:15<00:04,  2.40it/s]"
     ]
    },
    {
     "name": "stdout",
     "output_type": "stream",
     "text": [
      "sub_gene_cell.shape: (12152, 5000)\n",
      "sub_peak_cell.shape: (116490, 5000)\n"
     ]
    },
    {
     "name": "stderr",
     "output_type": "stream",
     "text": [
      "\r",
      " 78%|███████▊  | 39/50 [00:16<00:04,  2.41it/s]"
     ]
    },
    {
     "name": "stdout",
     "output_type": "stream",
     "text": [
      "sub_gene_cell.shape: (12152, 5000)\n",
      "sub_peak_cell.shape: (116490, 5000)\n"
     ]
    },
    {
     "name": "stderr",
     "output_type": "stream",
     "text": [
      "\r",
      " 80%|████████  | 40/50 [00:16<00:04,  2.42it/s]"
     ]
    },
    {
     "name": "stdout",
     "output_type": "stream",
     "text": [
      "sub_gene_cell.shape: (12152, 5000)\n",
      "sub_peak_cell.shape: (116490, 5000)\n"
     ]
    },
    {
     "name": "stderr",
     "output_type": "stream",
     "text": [
      "\r",
      " 82%|████████▏ | 41/50 [00:17<00:03,  2.42it/s]"
     ]
    },
    {
     "name": "stdout",
     "output_type": "stream",
     "text": [
      "sub_gene_cell.shape: (12152, 5000)\n",
      "sub_peak_cell.shape: (116490, 5000)\n"
     ]
    },
    {
     "name": "stderr",
     "output_type": "stream",
     "text": [
      "\r",
      " 84%|████████▍ | 42/50 [00:17<00:03,  2.43it/s]"
     ]
    },
    {
     "name": "stdout",
     "output_type": "stream",
     "text": [
      "sub_gene_cell.shape: (12152, 5000)\n",
      "sub_peak_cell.shape: (116490, 5000)\n"
     ]
    },
    {
     "name": "stderr",
     "output_type": "stream",
     "text": [
      "\r",
      " 86%|████████▌ | 43/50 [00:18<00:02,  2.42it/s]"
     ]
    },
    {
     "name": "stdout",
     "output_type": "stream",
     "text": [
      "sub_gene_cell.shape: (12152, 5000)\n",
      "sub_peak_cell.shape: (116490, 5000)\n"
     ]
    },
    {
     "name": "stderr",
     "output_type": "stream",
     "text": [
      "\r",
      " 88%|████████▊ | 44/50 [00:18<00:02,  2.42it/s]"
     ]
    },
    {
     "name": "stdout",
     "output_type": "stream",
     "text": [
      "sub_gene_cell.shape: (12152, 5000)\n",
      "sub_peak_cell.shape: (116490, 5000)\n"
     ]
    },
    {
     "name": "stderr",
     "output_type": "stream",
     "text": [
      "\r",
      " 90%|█████████ | 45/50 [00:18<00:02,  2.41it/s]"
     ]
    },
    {
     "name": "stdout",
     "output_type": "stream",
     "text": [
      "sub_gene_cell.shape: (12152, 5000)\n",
      "sub_peak_cell.shape: (116490, 5000)\n"
     ]
    },
    {
     "name": "stderr",
     "output_type": "stream",
     "text": [
      "\r",
      " 92%|█████████▏| 46/50 [00:19<00:01,  2.42it/s]"
     ]
    },
    {
     "name": "stdout",
     "output_type": "stream",
     "text": [
      "sub_gene_cell.shape: (12152, 5000)\n",
      "sub_peak_cell.shape: (116490, 5000)\n"
     ]
    },
    {
     "name": "stderr",
     "output_type": "stream",
     "text": [
      "\r",
      " 94%|█████████▍| 47/50 [00:19<00:01,  2.40it/s]"
     ]
    },
    {
     "name": "stdout",
     "output_type": "stream",
     "text": [
      "sub_gene_cell.shape: (12152, 5000)\n",
      "sub_peak_cell.shape: (116490, 5000)\n"
     ]
    },
    {
     "name": "stderr",
     "output_type": "stream",
     "text": [
      "\r",
      " 96%|█████████▌| 48/50 [00:20<00:00,  2.41it/s]"
     ]
    },
    {
     "name": "stdout",
     "output_type": "stream",
     "text": [
      "sub_gene_cell.shape: (12152, 5000)\n",
      "sub_peak_cell.shape: (116490, 5000)\n"
     ]
    },
    {
     "name": "stderr",
     "output_type": "stream",
     "text": [
      "\r",
      " 98%|█████████▊| 49/50 [00:20<00:00,  2.39it/s]"
     ]
    },
    {
     "name": "stdout",
     "output_type": "stream",
     "text": [
      "sub_gene_cell.shape: (12152, 5000)\n",
      "sub_peak_cell.shape: (116490, 5000)\n"
     ]
    },
    {
     "name": "stderr",
     "output_type": "stream",
     "text": [
      "100%|██████████| 50/50 [00:20<00:00,  2.39it/s]"
     ]
    },
    {
     "name": "stdout",
     "output_type": "stream",
     "text": [
      "sub_gene_cell.shape: (12152, 5000)\n",
      "sub_peak_cell.shape: (116490, 5000)\n"
     ]
    },
    {
     "name": "stderr",
     "output_type": "stream",
     "text": [
      "\n"
     ]
    }
   ],
   "source": [
    "import os\n",
    "import numpy as np\n",
    "import scipy.sparse\n",
    "from tqdm import tqdm\n",
    "from scipy import io\n",
    "\n",
    "# ip_file = '/fs/ess/scratch/PCON0022/mtduan/site1/'\n",
    "filetype_name_list = ['Rare1_Ordinary4']\n",
    "\n",
    "for filetype_name in filetype_name_list:\n",
    "    for file_num in tqdm(range(0, 50)):  # Process the first 50 folders\n",
    "        path2 = os.path.join(ip_file, filetype_name, str(file_num), 'R_input')\n",
    "        \n",
    "        # Set random seed\n",
    "        np.random.seed(file_num)\n",
    "        random.seed(file_num)\n",
    "        \n",
    "        # Execute sampling function\n",
    "        sample_indices = sample_cells(sorted_cell_type_dict, total_samples=5000)\n",
    "        \n",
    "        # Sample corresponding gene_cell, peak_cell matrices, and true_label labels\n",
    "        sub_gene_cell = gene_cell[:, sample_indices]\n",
    "        sub_peak_cell = peak_cell[:, sample_indices]\n",
    "        gene_cell_matrix = sub_gene_cell.X\n",
    "        peak_cell_matrix = sub_peak_cell.X\n",
    "        \n",
    "        sub_label = list(true_label.iloc[sample_indices]['cell_type'])\n",
    "        \n",
    "        print('sub_gene_cell.shape:', end=' ')\n",
    "        print(sub_gene_cell.shape)\n",
    "        print('sub_peak_cell.shape:', end=' ')\n",
    "        print(sub_peak_cell.shape)\n",
    "        \n",
    "        # Save files\n",
    "        io.mmwrite(os.path.join(path2, \"sub_gene_cell.mtx\"), gene_cell_matrix)\n",
    "        io.mmwrite(os.path.join(path2, \"sub_peak_cell.mtx\"), peak_cell_matrix)\n",
    "        with open(os.path.join(path2, \"sub_label.txt\"), \"w\") as file:\n",
    "            for label in sub_label:\n",
    "                file.write(f\"{label}\\n\")\n",
    "        with open(os.path.join(path2, \"sample_indices.txt\"), \"w\") as file:\n",
    "            for index in sample_indices:\n",
    "                file.write(f\"{index}\\n\")"
   ]
  },
  {
   "cell_type": "markdown",
   "id": "0f504fd2",
   "metadata": {},
   "source": [
    "#### Sim-PBMC 8"
   ]
  },
  {
   "cell_type": "code",
   "execution_count": null,
   "id": "5ef8324d",
   "metadata": {},
   "outputs": [],
   "source": [
    "import numpy as np\n",
    "import random\n",
    "\n",
    "def sample_cells(cell_type_dict, total_samples=5000):\n",
    "    # Extract all cell types\n",
    "    cell_types = list(cell_type_dict.keys())\n",
    "    \n",
    "    # The last 9 types must be sampled\n",
    "    fixed_types = cell_types[-9:]\n",
    "    \n",
    "    # Randomly select 1 cell type from the first types\n",
    "    random_type = random.choice(cell_types[:2])\n",
    "    \n",
    "    # Combine these 10 types\n",
    "    sample_types = fixed_types + [random_type]\n",
    "    \n",
    "    # Calculate the proportion of each cell type within the selected types\n",
    "    type_counts = {cell_type: len(cells) for cell_type, cells in cell_type_dict.items() if cell_type in sample_types}\n",
    "    total_count = sum(type_counts.values()) - 50 if random_type in type_counts else 0\n",
    "    type_ratio = {cell_type: count / total_count for cell_type, count in type_counts.items() if cell_type != random_type}\n",
    "    \n",
    "    # Sample these cell types proportionally to a total of 5000\n",
    "    sample_counts = {cell_type: int(np.round(ratio * total_samples)) for cell_type, ratio in type_ratio.items()}\n",
    "    \n",
    "    # Find the difference between the total number of samples and 5000 (including the fixed 50), then allocate this difference to the cell type with the largest sample count\n",
    "    diff = total_samples - sum(sample_counts.values()) - 50\n",
    "    max_type = max(sample_counts, key=sample_counts.get)\n",
    "    sample_counts[max_type] += diff\n",
    "    \n",
    "    # Perform sampling\n",
    "    sample_indices = []\n",
    "    for cell_type, count in sample_counts.items():\n",
    "        cells = cell_type_dict[cell_type]\n",
    "        if len(cells) > count:\n",
    "            cells = np.random.choice(cells, size=count, replace=False)\n",
    "        sample_indices.extend(cells)\n",
    "    \n",
    "    # Additionally sample 50 samples from the selected random type\n",
    "    cells = cell_type_dict[random_type]\n",
    "    if len(cells) > 50:\n",
    "        cells = np.random.choice(cells, size=50, replace=False)\n",
    "    sample_indices.extend(cells)\n",
    "        \n",
    "    return sample_indices\n"
   ]
  },
  {
   "cell_type": "code",
   "execution_count": 31,
   "id": "90336516",
   "metadata": {},
   "outputs": [
    {
     "name": "stderr",
     "output_type": "stream",
     "text": [
      "  2%|▏         | 1/50 [00:00<00:25,  1.95it/s]"
     ]
    },
    {
     "name": "stdout",
     "output_type": "stream",
     "text": [
      "sub_gene_cell.shape: (12152, 5000)\n",
      "sub_peak_cell.shape: (116490, 5000)\n"
     ]
    },
    {
     "name": "stderr",
     "output_type": "stream",
     "text": [
      "\r",
      "  4%|▍         | 2/50 [00:00<00:22,  2.15it/s]"
     ]
    },
    {
     "name": "stdout",
     "output_type": "stream",
     "text": [
      "sub_gene_cell.shape: (12152, 5000)\n",
      "sub_peak_cell.shape: (116490, 5000)\n"
     ]
    },
    {
     "name": "stderr",
     "output_type": "stream",
     "text": [
      "\r",
      "  6%|▌         | 3/50 [00:01<00:21,  2.22it/s]"
     ]
    },
    {
     "name": "stdout",
     "output_type": "stream",
     "text": [
      "sub_gene_cell.shape: (12152, 5000)\n",
      "sub_peak_cell.shape: (116490, 5000)\n"
     ]
    },
    {
     "name": "stderr",
     "output_type": "stream",
     "text": [
      "\r",
      "  8%|▊         | 4/50 [00:01<00:20,  2.27it/s]"
     ]
    },
    {
     "name": "stdout",
     "output_type": "stream",
     "text": [
      "sub_gene_cell.shape: (12152, 5000)\n",
      "sub_peak_cell.shape: (116490, 5000)\n"
     ]
    },
    {
     "name": "stderr",
     "output_type": "stream",
     "text": [
      "\r",
      " 10%|█         | 5/50 [00:02<00:19,  2.27it/s]"
     ]
    },
    {
     "name": "stdout",
     "output_type": "stream",
     "text": [
      "sub_gene_cell.shape: (12152, 5000)\n",
      "sub_peak_cell.shape: (116490, 5000)\n"
     ]
    },
    {
     "name": "stderr",
     "output_type": "stream",
     "text": [
      "\r",
      " 12%|█▏        | 6/50 [00:02<00:19,  2.28it/s]"
     ]
    },
    {
     "name": "stdout",
     "output_type": "stream",
     "text": [
      "sub_gene_cell.shape: (12152, 5000)\n",
      "sub_peak_cell.shape: (116490, 5000)\n"
     ]
    },
    {
     "name": "stderr",
     "output_type": "stream",
     "text": [
      "\r",
      " 14%|█▍        | 7/50 [00:03<00:18,  2.27it/s]"
     ]
    },
    {
     "name": "stdout",
     "output_type": "stream",
     "text": [
      "sub_gene_cell.shape: (12152, 5000)\n",
      "sub_peak_cell.shape: (116490, 5000)\n"
     ]
    },
    {
     "name": "stderr",
     "output_type": "stream",
     "text": [
      "\r",
      " 16%|█▌        | 8/50 [00:03<00:18,  2.29it/s]"
     ]
    },
    {
     "name": "stdout",
     "output_type": "stream",
     "text": [
      "sub_gene_cell.shape: (12152, 5000)\n",
      "sub_peak_cell.shape: (116490, 5000)\n"
     ]
    },
    {
     "name": "stderr",
     "output_type": "stream",
     "text": [
      "\r",
      " 18%|█▊        | 9/50 [00:04<00:18,  2.27it/s]"
     ]
    },
    {
     "name": "stdout",
     "output_type": "stream",
     "text": [
      "sub_gene_cell.shape: (12152, 5000)\n",
      "sub_peak_cell.shape: (116490, 5000)\n"
     ]
    },
    {
     "name": "stderr",
     "output_type": "stream",
     "text": [
      "\r",
      " 20%|██        | 10/50 [00:04<00:17,  2.28it/s]"
     ]
    },
    {
     "name": "stdout",
     "output_type": "stream",
     "text": [
      "sub_gene_cell.shape: (12152, 5000)\n",
      "sub_peak_cell.shape: (116490, 5000)\n"
     ]
    },
    {
     "name": "stderr",
     "output_type": "stream",
     "text": [
      "\r",
      " 22%|██▏       | 11/50 [00:04<00:17,  2.26it/s]"
     ]
    },
    {
     "name": "stdout",
     "output_type": "stream",
     "text": [
      "sub_gene_cell.shape: (12152, 5000)\n",
      "sub_peak_cell.shape: (116490, 5000)\n"
     ]
    },
    {
     "name": "stderr",
     "output_type": "stream",
     "text": [
      "\r",
      " 24%|██▍       | 12/50 [00:05<00:16,  2.28it/s]"
     ]
    },
    {
     "name": "stdout",
     "output_type": "stream",
     "text": [
      "sub_gene_cell.shape: (12152, 5000)\n",
      "sub_peak_cell.shape: (116490, 5000)\n"
     ]
    },
    {
     "name": "stderr",
     "output_type": "stream",
     "text": [
      "\r",
      " 26%|██▌       | 13/50 [00:05<00:16,  2.27it/s]"
     ]
    },
    {
     "name": "stdout",
     "output_type": "stream",
     "text": [
      "sub_gene_cell.shape: (12152, 5000)\n",
      "sub_peak_cell.shape: (116490, 5000)\n"
     ]
    },
    {
     "name": "stderr",
     "output_type": "stream",
     "text": [
      "\r",
      " 28%|██▊       | 14/50 [00:06<00:15,  2.31it/s]"
     ]
    },
    {
     "name": "stdout",
     "output_type": "stream",
     "text": [
      "sub_gene_cell.shape: (12152, 5000)\n",
      "sub_peak_cell.shape: (116490, 5000)\n"
     ]
    },
    {
     "name": "stderr",
     "output_type": "stream",
     "text": [
      "\r",
      " 30%|███       | 15/50 [00:06<00:15,  2.31it/s]"
     ]
    },
    {
     "name": "stdout",
     "output_type": "stream",
     "text": [
      "sub_gene_cell.shape: (12152, 5000)\n",
      "sub_peak_cell.shape: (116490, 5000)\n"
     ]
    },
    {
     "name": "stderr",
     "output_type": "stream",
     "text": [
      "\r",
      " 32%|███▏      | 16/50 [00:07<00:14,  2.32it/s]"
     ]
    },
    {
     "name": "stdout",
     "output_type": "stream",
     "text": [
      "sub_gene_cell.shape: (12152, 5000)\n",
      "sub_peak_cell.shape: (116490, 5000)\n"
     ]
    },
    {
     "name": "stderr",
     "output_type": "stream",
     "text": [
      "\r",
      " 34%|███▍      | 17/50 [00:07<00:14,  2.32it/s]"
     ]
    },
    {
     "name": "stdout",
     "output_type": "stream",
     "text": [
      "sub_gene_cell.shape: (12152, 5000)\n",
      "sub_peak_cell.shape: (116490, 5000)\n"
     ]
    },
    {
     "name": "stderr",
     "output_type": "stream",
     "text": [
      "\r",
      " 36%|███▌      | 18/50 [00:07<00:13,  2.35it/s]"
     ]
    },
    {
     "name": "stdout",
     "output_type": "stream",
     "text": [
      "sub_gene_cell.shape: (12152, 5000)\n",
      "sub_peak_cell.shape: (116490, 5000)\n"
     ]
    },
    {
     "name": "stderr",
     "output_type": "stream",
     "text": [
      "\r",
      " 38%|███▊      | 19/50 [00:08<00:13,  2.35it/s]"
     ]
    },
    {
     "name": "stdout",
     "output_type": "stream",
     "text": [
      "sub_gene_cell.shape: (12152, 5000)\n",
      "sub_peak_cell.shape: (116490, 5000)\n"
     ]
    },
    {
     "name": "stderr",
     "output_type": "stream",
     "text": [
      "\r",
      " 40%|████      | 20/50 [00:08<00:12,  2.37it/s]"
     ]
    },
    {
     "name": "stdout",
     "output_type": "stream",
     "text": [
      "sub_gene_cell.shape: (12152, 5000)\n",
      "sub_peak_cell.shape: (116490, 5000)\n"
     ]
    },
    {
     "name": "stderr",
     "output_type": "stream",
     "text": [
      "\r",
      " 42%|████▏     | 21/50 [00:09<00:12,  2.37it/s]"
     ]
    },
    {
     "name": "stdout",
     "output_type": "stream",
     "text": [
      "sub_gene_cell.shape: (12152, 5000)\n",
      "sub_peak_cell.shape: (116490, 5000)\n"
     ]
    },
    {
     "name": "stderr",
     "output_type": "stream",
     "text": [
      "\r",
      " 44%|████▍     | 22/50 [00:09<00:11,  2.39it/s]"
     ]
    },
    {
     "name": "stdout",
     "output_type": "stream",
     "text": [
      "sub_gene_cell.shape: (12152, 5000)\n",
      "sub_peak_cell.shape: (116490, 5000)\n"
     ]
    },
    {
     "name": "stderr",
     "output_type": "stream",
     "text": [
      "\r",
      " 46%|████▌     | 23/50 [00:09<00:11,  2.40it/s]"
     ]
    },
    {
     "name": "stdout",
     "output_type": "stream",
     "text": [
      "sub_gene_cell.shape: (12152, 5000)\n",
      "sub_peak_cell.shape: (116490, 5000)\n"
     ]
    },
    {
     "name": "stderr",
     "output_type": "stream",
     "text": [
      "\r",
      " 48%|████▊     | 24/50 [00:10<00:10,  2.42it/s]"
     ]
    },
    {
     "name": "stdout",
     "output_type": "stream",
     "text": [
      "sub_gene_cell.shape: (12152, 5000)\n",
      "sub_peak_cell.shape: (116490, 5000)\n"
     ]
    },
    {
     "name": "stderr",
     "output_type": "stream",
     "text": [
      "\r",
      " 50%|█████     | 25/50 [00:10<00:10,  2.41it/s]"
     ]
    },
    {
     "name": "stdout",
     "output_type": "stream",
     "text": [
      "sub_gene_cell.shape: (12152, 5000)\n",
      "sub_peak_cell.shape: (116490, 5000)\n"
     ]
    },
    {
     "name": "stderr",
     "output_type": "stream",
     "text": [
      "\r",
      " 52%|█████▏    | 26/50 [00:11<00:09,  2.41it/s]"
     ]
    },
    {
     "name": "stdout",
     "output_type": "stream",
     "text": [
      "sub_gene_cell.shape: (12152, 5000)\n",
      "sub_peak_cell.shape: (116490, 5000)\n"
     ]
    },
    {
     "name": "stderr",
     "output_type": "stream",
     "text": [
      "\r",
      " 54%|█████▍    | 27/50 [00:11<00:09,  2.40it/s]"
     ]
    },
    {
     "name": "stdout",
     "output_type": "stream",
     "text": [
      "sub_gene_cell.shape: (12152, 5000)\n",
      "sub_peak_cell.shape: (116490, 5000)\n"
     ]
    },
    {
     "name": "stderr",
     "output_type": "stream",
     "text": [
      "\r",
      " 56%|█████▌    | 28/50 [00:12<00:09,  2.42it/s]"
     ]
    },
    {
     "name": "stdout",
     "output_type": "stream",
     "text": [
      "sub_gene_cell.shape: (12152, 5000)\n",
      "sub_peak_cell.shape: (116490, 5000)\n"
     ]
    },
    {
     "name": "stderr",
     "output_type": "stream",
     "text": [
      "\r",
      " 58%|█████▊    | 29/50 [00:12<00:08,  2.40it/s]"
     ]
    },
    {
     "name": "stdout",
     "output_type": "stream",
     "text": [
      "sub_gene_cell.shape: (12152, 5000)\n",
      "sub_peak_cell.shape: (116490, 5000)\n"
     ]
    },
    {
     "name": "stderr",
     "output_type": "stream",
     "text": [
      "\r",
      " 60%|██████    | 30/50 [00:12<00:08,  2.41it/s]"
     ]
    },
    {
     "name": "stdout",
     "output_type": "stream",
     "text": [
      "sub_gene_cell.shape: (12152, 5000)\n",
      "sub_peak_cell.shape: (116490, 5000)\n"
     ]
    },
    {
     "name": "stderr",
     "output_type": "stream",
     "text": [
      "\r",
      " 62%|██████▏   | 31/50 [00:13<00:07,  2.39it/s]"
     ]
    },
    {
     "name": "stdout",
     "output_type": "stream",
     "text": [
      "sub_gene_cell.shape: (12152, 5000)\n",
      "sub_peak_cell.shape: (116490, 5000)\n"
     ]
    },
    {
     "name": "stderr",
     "output_type": "stream",
     "text": [
      "\r",
      " 64%|██████▍   | 32/50 [00:13<00:07,  2.41it/s]"
     ]
    },
    {
     "name": "stdout",
     "output_type": "stream",
     "text": [
      "sub_gene_cell.shape: (12152, 5000)\n",
      "sub_peak_cell.shape: (116490, 5000)\n"
     ]
    },
    {
     "name": "stderr",
     "output_type": "stream",
     "text": [
      "\r",
      " 66%|██████▌   | 33/50 [00:14<00:07,  2.40it/s]"
     ]
    },
    {
     "name": "stdout",
     "output_type": "stream",
     "text": [
      "sub_gene_cell.shape: (12152, 5000)\n",
      "sub_peak_cell.shape: (116490, 5000)\n"
     ]
    },
    {
     "name": "stderr",
     "output_type": "stream",
     "text": [
      "\r",
      " 68%|██████▊   | 34/50 [00:14<00:06,  2.41it/s]"
     ]
    },
    {
     "name": "stdout",
     "output_type": "stream",
     "text": [
      "sub_gene_cell.shape: (12152, 5000)\n",
      "sub_peak_cell.shape: (116490, 5000)\n"
     ]
    },
    {
     "name": "stderr",
     "output_type": "stream",
     "text": [
      "\r",
      " 70%|███████   | 35/50 [00:14<00:06,  2.40it/s]"
     ]
    },
    {
     "name": "stdout",
     "output_type": "stream",
     "text": [
      "sub_gene_cell.shape: (12152, 5000)\n",
      "sub_peak_cell.shape: (116490, 5000)\n"
     ]
    },
    {
     "name": "stderr",
     "output_type": "stream",
     "text": [
      "\r",
      " 72%|███████▏  | 36/50 [00:15<00:05,  2.40it/s]"
     ]
    },
    {
     "name": "stdout",
     "output_type": "stream",
     "text": [
      "sub_gene_cell.shape: (12152, 5000)\n",
      "sub_peak_cell.shape: (116490, 5000)\n"
     ]
    },
    {
     "name": "stderr",
     "output_type": "stream",
     "text": [
      "\r",
      " 74%|███████▍  | 37/50 [00:15<00:05,  2.40it/s]"
     ]
    },
    {
     "name": "stdout",
     "output_type": "stream",
     "text": [
      "sub_gene_cell.shape: (12152, 5000)\n",
      "sub_peak_cell.shape: (116490, 5000)\n"
     ]
    },
    {
     "name": "stderr",
     "output_type": "stream",
     "text": [
      "\r",
      " 76%|███████▌  | 38/50 [00:16<00:04,  2.42it/s]"
     ]
    },
    {
     "name": "stdout",
     "output_type": "stream",
     "text": [
      "sub_gene_cell.shape: (12152, 5000)\n",
      "sub_peak_cell.shape: (116490, 5000)\n"
     ]
    },
    {
     "name": "stderr",
     "output_type": "stream",
     "text": [
      "\r",
      " 78%|███████▊  | 39/50 [00:16<00:04,  2.41it/s]"
     ]
    },
    {
     "name": "stdout",
     "output_type": "stream",
     "text": [
      "sub_gene_cell.shape: (12152, 5000)\n",
      "sub_peak_cell.shape: (116490, 5000)\n"
     ]
    },
    {
     "name": "stderr",
     "output_type": "stream",
     "text": [
      "\r",
      " 80%|████████  | 40/50 [00:17<00:04,  2.41it/s]"
     ]
    },
    {
     "name": "stdout",
     "output_type": "stream",
     "text": [
      "sub_gene_cell.shape: (12152, 5000)\n",
      "sub_peak_cell.shape: (116490, 5000)\n"
     ]
    },
    {
     "name": "stderr",
     "output_type": "stream",
     "text": [
      "\r",
      " 82%|████████▏ | 41/50 [00:17<00:03,  2.40it/s]"
     ]
    },
    {
     "name": "stdout",
     "output_type": "stream",
     "text": [
      "sub_gene_cell.shape: (12152, 5000)\n",
      "sub_peak_cell.shape: (116490, 5000)\n"
     ]
    },
    {
     "name": "stderr",
     "output_type": "stream",
     "text": [
      "\r",
      " 84%|████████▍ | 42/50 [00:17<00:03,  2.42it/s]"
     ]
    },
    {
     "name": "stdout",
     "output_type": "stream",
     "text": [
      "sub_gene_cell.shape: (12152, 5000)\n",
      "sub_peak_cell.shape: (116490, 5000)\n"
     ]
    },
    {
     "name": "stderr",
     "output_type": "stream",
     "text": [
      "\r",
      " 86%|████████▌ | 43/50 [00:18<00:02,  2.41it/s]"
     ]
    },
    {
     "name": "stdout",
     "output_type": "stream",
     "text": [
      "sub_gene_cell.shape: (12152, 5000)\n",
      "sub_peak_cell.shape: (116490, 5000)\n"
     ]
    },
    {
     "name": "stderr",
     "output_type": "stream",
     "text": [
      "\r",
      " 88%|████████▊ | 44/50 [00:18<00:02,  2.41it/s]"
     ]
    },
    {
     "name": "stdout",
     "output_type": "stream",
     "text": [
      "sub_gene_cell.shape: (12152, 5000)\n",
      "sub_peak_cell.shape: (116490, 5000)\n"
     ]
    },
    {
     "name": "stderr",
     "output_type": "stream",
     "text": [
      "\r",
      " 90%|█████████ | 45/50 [00:19<00:02,  2.40it/s]"
     ]
    },
    {
     "name": "stdout",
     "output_type": "stream",
     "text": [
      "sub_gene_cell.shape: (12152, 5000)\n",
      "sub_peak_cell.shape: (116490, 5000)\n"
     ]
    },
    {
     "name": "stderr",
     "output_type": "stream",
     "text": [
      "\r",
      " 92%|█████████▏| 46/50 [00:19<00:01,  2.42it/s]"
     ]
    },
    {
     "name": "stdout",
     "output_type": "stream",
     "text": [
      "sub_gene_cell.shape: (12152, 5000)\n",
      "sub_peak_cell.shape: (116490, 5000)\n"
     ]
    },
    {
     "name": "stderr",
     "output_type": "stream",
     "text": [
      "\r",
      " 94%|█████████▍| 47/50 [00:19<00:01,  2.40it/s]"
     ]
    },
    {
     "name": "stdout",
     "output_type": "stream",
     "text": [
      "sub_gene_cell.shape: (12152, 5000)\n",
      "sub_peak_cell.shape: (116490, 5000)\n"
     ]
    },
    {
     "name": "stderr",
     "output_type": "stream",
     "text": [
      "\r",
      " 96%|█████████▌| 48/50 [00:20<00:00,  2.40it/s]"
     ]
    },
    {
     "name": "stdout",
     "output_type": "stream",
     "text": [
      "sub_gene_cell.shape: (12152, 5000)\n",
      "sub_peak_cell.shape: (116490, 5000)\n"
     ]
    },
    {
     "name": "stderr",
     "output_type": "stream",
     "text": [
      "\r",
      " 98%|█████████▊| 49/50 [00:20<00:00,  2.40it/s]"
     ]
    },
    {
     "name": "stdout",
     "output_type": "stream",
     "text": [
      "sub_gene_cell.shape: (12152, 5000)\n",
      "sub_peak_cell.shape: (116490, 5000)\n"
     ]
    },
    {
     "name": "stderr",
     "output_type": "stream",
     "text": [
      "100%|██████████| 50/50 [00:21<00:00,  2.36it/s]"
     ]
    },
    {
     "name": "stdout",
     "output_type": "stream",
     "text": [
      "sub_gene_cell.shape: (12152, 5000)\n",
      "sub_peak_cell.shape: (116490, 5000)\n"
     ]
    },
    {
     "name": "stderr",
     "output_type": "stream",
     "text": [
      "\n"
     ]
    }
   ],
   "source": [
    "import os\n",
    "import numpy as np\n",
    "import scipy.sparse\n",
    "from tqdm import tqdm\n",
    "from scipy import io\n",
    "\n",
    "# ip_file = '/fs/ess/scratch/PCON0022/mtduan/site1/'\n",
    "filetype_name_list = ['Rare1_Ordinary9']\n",
    "\n",
    "for filetype_name in filetype_name_list:\n",
    "    for file_num in tqdm(range(0, 50)):  # Process the first 50 folders\n",
    "        path2 = os.path.join(ip_file, filetype_name, str(file_num), 'R_input')\n",
    "        \n",
    "        # Set random seed\n",
    "        np.random.seed(file_num)\n",
    "        random.seed(file_num)\n",
    "        \n",
    "        # Execute sampling function\n",
    "        sample_indices = sample_cells(sorted_cell_type_dict, total_samples=5000)\n",
    "        \n",
    "        # Sample corresponding gene_cell, peak_cell matrices, and true_label labels\n",
    "        sub_gene_cell = gene_cell[:, sample_indices]\n",
    "        sub_peak_cell = peak_cell[:, sample_indices]\n",
    "        gene_cell_matrix = sub_gene_cell.X\n",
    "        peak_cell_matrix = sub_peak_cell.X\n",
    "        \n",
    "        sub_label = list(true_label.iloc[sample_indices]['cell_type'])\n",
    "        \n",
    "        print('sub_gene_cell.shape:', end=' ')\n",
    "        print(sub_gene_cell.shape)\n",
    "        print('sub_peak_cell.shape:', end=' ')\n",
    "        print(sub_peak_cell.shape)\n",
    "        \n",
    "        # Save files\n",
    "        io.mmwrite(os.path.join(path2, \"sub_gene_cell.mtx\"), gene_cell_matrix)\n",
    "        io.mmwrite(os.path.join(path2, \"sub_peak_cell.mtx\"), peak_cell_matrix)\n",
    "        with open(os.path.join(path2, \"sub_label.txt\"), \"w\") as file:\n",
    "            for label in sub_label:\n",
    "                file.write(f\"{label}\\n\")\n",
    "        with open(os.path.join(path2, \"sample_indices.txt\"), \"w\") as file:\n",
    "            for index in sample_indices:\n",
    "                file.write(f\"{index}\\n\")\n"
   ]
  },
  {
   "cell_type": "markdown",
   "id": "cfb7271c",
   "metadata": {},
   "source": [
    "#### Sim-PBMC 9"
   ]
  },
  {
   "cell_type": "code",
   "execution_count": null,
   "id": "30590781",
   "metadata": {},
   "outputs": [],
   "source": [
    "import numpy as np\n",
    "import random\n",
    "\n",
    "def sample_cells(cell_type_dict, total_samples=5000):\n",
    "    # Extract all cell types\n",
    "    cell_types = list(cell_type_dict.keys())\n",
    "    \n",
    "    # The last ten types must be sampled\n",
    "    fixed_types = cell_types[-10:]\n",
    "    \n",
    "    # Randomly select 5 cell types from the first types\n",
    "    random_types = random.sample(cell_types[:8], 5)\n",
    "    \n",
    "    # Combine these 15 types\n",
    "    sample_types = fixed_types + random_types\n",
    "    \n",
    "    # Calculate the proportion of each cell type within these 15 types\n",
    "    type_counts = {cell_type: len(cells) for cell_type, cells in cell_type_dict.items() if cell_type in sample_types}\n",
    "    total_count = sum(type_counts.values())\n",
    "    type_ratio = {cell_type: count / total_count for cell_type, count in type_counts.items()}\n",
    "    \n",
    "    # Sample these cell types proportionally to a total of 5000\n",
    "    sample_counts = {cell_type: int(np.round(ratio * total_samples)) for cell_type, ratio in type_ratio.items()}\n",
    "    \n",
    "    # Find the difference between the total number of samples and 5000, then allocate this difference to the cell type with the largest sample count\n",
    "    diff = total_samples - sum(sample_counts.values())\n",
    "    max_type = max(sample_counts, key=sample_counts.get)\n",
    "    sample_counts[max_type] += diff\n",
    "    \n",
    "    # Perform sampling\n",
    "    sample_indices = []\n",
    "    for cell_type, count in sample_counts.items():\n",
    "        cells = cell_type_dict[cell_type]\n",
    "        if len(cells) > count:\n",
    "            cells = np.random.choice(cells, size=count, replace=False)\n",
    "        sample_indices.extend(cells)\n",
    "        \n",
    "    return sample_indices"
   ]
  },
  {
   "cell_type": "code",
   "execution_count": 32,
   "id": "b8ea3346",
   "metadata": {},
   "outputs": [
    {
     "name": "stderr",
     "output_type": "stream",
     "text": [
      "  2%|▏         | 1/50 [00:00<00:24,  1.97it/s]"
     ]
    },
    {
     "name": "stdout",
     "output_type": "stream",
     "text": [
      "sub_gene_cell.shape: (12152, 5000)\n",
      "sub_peak_cell.shape: (116490, 5000)\n"
     ]
    },
    {
     "name": "stderr",
     "output_type": "stream",
     "text": [
      "\r",
      "  4%|▍         | 2/50 [00:00<00:21,  2.21it/s]"
     ]
    },
    {
     "name": "stdout",
     "output_type": "stream",
     "text": [
      "sub_gene_cell.shape: (12152, 5000)\n",
      "sub_peak_cell.shape: (116490, 5000)\n"
     ]
    },
    {
     "name": "stderr",
     "output_type": "stream",
     "text": [
      "\r",
      "  6%|▌         | 3/50 [00:01<00:20,  2.31it/s]"
     ]
    },
    {
     "name": "stdout",
     "output_type": "stream",
     "text": [
      "sub_gene_cell.shape: (12152, 5000)\n",
      "sub_peak_cell.shape: (116490, 5000)\n"
     ]
    },
    {
     "name": "stderr",
     "output_type": "stream",
     "text": [
      "\r",
      "  8%|▊         | 4/50 [00:01<00:19,  2.37it/s]"
     ]
    },
    {
     "name": "stdout",
     "output_type": "stream",
     "text": [
      "sub_gene_cell.shape: (12152, 5000)\n",
      "sub_peak_cell.shape: (116490, 5000)\n"
     ]
    },
    {
     "name": "stderr",
     "output_type": "stream",
     "text": [
      "\r",
      " 10%|█         | 5/50 [00:02<00:18,  2.37it/s]"
     ]
    },
    {
     "name": "stdout",
     "output_type": "stream",
     "text": [
      "sub_gene_cell.shape: (12152, 5000)\n",
      "sub_peak_cell.shape: (116490, 5000)\n"
     ]
    },
    {
     "name": "stderr",
     "output_type": "stream",
     "text": [
      "\r",
      " 12%|█▏        | 6/50 [00:02<00:18,  2.39it/s]"
     ]
    },
    {
     "name": "stdout",
     "output_type": "stream",
     "text": [
      "sub_gene_cell.shape: (12152, 5000)\n",
      "sub_peak_cell.shape: (116490, 5000)\n"
     ]
    },
    {
     "name": "stderr",
     "output_type": "stream",
     "text": [
      "\r",
      " 14%|█▍        | 7/50 [00:02<00:18,  2.38it/s]"
     ]
    },
    {
     "name": "stdout",
     "output_type": "stream",
     "text": [
      "sub_gene_cell.shape: (12152, 5000)\n",
      "sub_peak_cell.shape: (116490, 5000)\n"
     ]
    },
    {
     "name": "stderr",
     "output_type": "stream",
     "text": [
      "\r",
      " 16%|█▌        | 8/50 [00:03<00:17,  2.41it/s]"
     ]
    },
    {
     "name": "stdout",
     "output_type": "stream",
     "text": [
      "sub_gene_cell.shape: (12152, 5000)\n",
      "sub_peak_cell.shape: (116490, 5000)\n"
     ]
    },
    {
     "name": "stderr",
     "output_type": "stream",
     "text": [
      "\r",
      " 18%|█▊        | 9/50 [00:03<00:17,  2.40it/s]"
     ]
    },
    {
     "name": "stdout",
     "output_type": "stream",
     "text": [
      "sub_gene_cell.shape: (12152, 5000)\n",
      "sub_peak_cell.shape: (116490, 5000)\n"
     ]
    },
    {
     "name": "stderr",
     "output_type": "stream",
     "text": [
      "\r",
      " 20%|██        | 10/50 [00:04<00:16,  2.41it/s]"
     ]
    },
    {
     "name": "stdout",
     "output_type": "stream",
     "text": [
      "sub_gene_cell.shape: (12152, 5000)\n",
      "sub_peak_cell.shape: (116490, 5000)\n"
     ]
    },
    {
     "name": "stderr",
     "output_type": "stream",
     "text": [
      "\r",
      " 22%|██▏       | 11/50 [00:04<00:16,  2.39it/s]"
     ]
    },
    {
     "name": "stdout",
     "output_type": "stream",
     "text": [
      "sub_gene_cell.shape: (12152, 5000)\n",
      "sub_peak_cell.shape: (116490, 5000)\n"
     ]
    },
    {
     "name": "stderr",
     "output_type": "stream",
     "text": [
      "\r",
      " 24%|██▍       | 12/50 [00:05<00:15,  2.42it/s]"
     ]
    },
    {
     "name": "stdout",
     "output_type": "stream",
     "text": [
      "sub_gene_cell.shape: (12152, 5000)\n",
      "sub_peak_cell.shape: (116490, 5000)\n"
     ]
    },
    {
     "name": "stderr",
     "output_type": "stream",
     "text": [
      "\r",
      " 26%|██▌       | 13/50 [00:05<00:15,  2.41it/s]"
     ]
    },
    {
     "name": "stdout",
     "output_type": "stream",
     "text": [
      "sub_gene_cell.shape: (12152, 5000)\n",
      "sub_peak_cell.shape: (116490, 5000)\n"
     ]
    },
    {
     "name": "stderr",
     "output_type": "stream",
     "text": [
      "\r",
      " 28%|██▊       | 14/50 [00:05<00:14,  2.41it/s]"
     ]
    },
    {
     "name": "stdout",
     "output_type": "stream",
     "text": [
      "sub_gene_cell.shape: (12152, 5000)\n",
      "sub_peak_cell.shape: (116490, 5000)\n"
     ]
    },
    {
     "name": "stderr",
     "output_type": "stream",
     "text": [
      "\r",
      " 30%|███       | 15/50 [00:06<00:14,  2.39it/s]"
     ]
    },
    {
     "name": "stdout",
     "output_type": "stream",
     "text": [
      "sub_gene_cell.shape: (12152, 5000)\n",
      "sub_peak_cell.shape: (116490, 5000)\n"
     ]
    },
    {
     "name": "stderr",
     "output_type": "stream",
     "text": [
      "\r",
      " 32%|███▏      | 16/50 [00:06<00:14,  2.40it/s]"
     ]
    },
    {
     "name": "stdout",
     "output_type": "stream",
     "text": [
      "sub_gene_cell.shape: (12152, 5000)\n",
      "sub_peak_cell.shape: (116490, 5000)\n"
     ]
    },
    {
     "name": "stderr",
     "output_type": "stream",
     "text": [
      "\r",
      " 34%|███▍      | 17/50 [00:07<00:13,  2.39it/s]"
     ]
    },
    {
     "name": "stdout",
     "output_type": "stream",
     "text": [
      "sub_gene_cell.shape: (12152, 5000)\n",
      "sub_peak_cell.shape: (116490, 5000)\n"
     ]
    },
    {
     "name": "stderr",
     "output_type": "stream",
     "text": [
      "\r",
      " 36%|███▌      | 18/50 [00:07<00:13,  2.41it/s]"
     ]
    },
    {
     "name": "stdout",
     "output_type": "stream",
     "text": [
      "sub_gene_cell.shape: (12152, 5000)\n",
      "sub_peak_cell.shape: (116490, 5000)\n"
     ]
    },
    {
     "name": "stderr",
     "output_type": "stream",
     "text": [
      "\r",
      " 38%|███▊      | 19/50 [00:07<00:12,  2.39it/s]"
     ]
    },
    {
     "name": "stdout",
     "output_type": "stream",
     "text": [
      "sub_gene_cell.shape: (12152, 5000)\n",
      "sub_peak_cell.shape: (116490, 5000)\n"
     ]
    },
    {
     "name": "stderr",
     "output_type": "stream",
     "text": [
      "\r",
      " 40%|████      | 20/50 [00:08<00:12,  2.40it/s]"
     ]
    },
    {
     "name": "stdout",
     "output_type": "stream",
     "text": [
      "sub_gene_cell.shape: (12152, 5000)\n",
      "sub_peak_cell.shape: (116490, 5000)\n"
     ]
    },
    {
     "name": "stderr",
     "output_type": "stream",
     "text": [
      "\r",
      " 42%|████▏     | 21/50 [00:08<00:12,  2.39it/s]"
     ]
    },
    {
     "name": "stdout",
     "output_type": "stream",
     "text": [
      "sub_gene_cell.shape: (12152, 5000)\n",
      "sub_peak_cell.shape: (116490, 5000)\n"
     ]
    },
    {
     "name": "stderr",
     "output_type": "stream",
     "text": [
      "\r",
      " 44%|████▍     | 22/50 [00:09<00:11,  2.40it/s]"
     ]
    },
    {
     "name": "stdout",
     "output_type": "stream",
     "text": [
      "sub_gene_cell.shape: (12152, 5000)\n",
      "sub_peak_cell.shape: (116490, 5000)\n"
     ]
    },
    {
     "name": "stderr",
     "output_type": "stream",
     "text": [
      "\r",
      " 46%|████▌     | 23/50 [00:09<00:11,  2.41it/s]"
     ]
    },
    {
     "name": "stdout",
     "output_type": "stream",
     "text": [
      "sub_gene_cell.shape: (12152, 5000)\n",
      "sub_peak_cell.shape: (116490, 5000)\n"
     ]
    },
    {
     "name": "stderr",
     "output_type": "stream",
     "text": [
      "\r",
      " 48%|████▊     | 24/50 [00:10<00:10,  2.43it/s]"
     ]
    },
    {
     "name": "stdout",
     "output_type": "stream",
     "text": [
      "sub_gene_cell.shape: (12152, 5000)\n",
      "sub_peak_cell.shape: (116490, 5000)\n"
     ]
    },
    {
     "name": "stderr",
     "output_type": "stream",
     "text": [
      "\r",
      " 50%|█████     | 25/50 [00:10<00:10,  2.41it/s]"
     ]
    },
    {
     "name": "stdout",
     "output_type": "stream",
     "text": [
      "sub_gene_cell.shape: (12152, 5000)\n",
      "sub_peak_cell.shape: (116490, 5000)\n"
     ]
    },
    {
     "name": "stderr",
     "output_type": "stream",
     "text": [
      "\r",
      " 52%|█████▏    | 26/50 [00:10<00:09,  2.41it/s]"
     ]
    },
    {
     "name": "stdout",
     "output_type": "stream",
     "text": [
      "sub_gene_cell.shape: (12152, 5000)\n",
      "sub_peak_cell.shape: (116490, 5000)\n"
     ]
    },
    {
     "name": "stderr",
     "output_type": "stream",
     "text": [
      "\r",
      " 54%|█████▍    | 27/50 [00:11<00:09,  2.36it/s]"
     ]
    },
    {
     "name": "stdout",
     "output_type": "stream",
     "text": [
      "sub_gene_cell.shape: (12152, 5000)\n",
      "sub_peak_cell.shape: (116490, 5000)\n"
     ]
    },
    {
     "name": "stderr",
     "output_type": "stream",
     "text": [
      "\r",
      " 56%|█████▌    | 28/50 [00:11<00:09,  2.35it/s]"
     ]
    },
    {
     "name": "stdout",
     "output_type": "stream",
     "text": [
      "sub_gene_cell.shape: (12152, 5000)\n",
      "sub_peak_cell.shape: (116490, 5000)\n"
     ]
    },
    {
     "name": "stderr",
     "output_type": "stream",
     "text": [
      "\r",
      " 58%|█████▊    | 29/50 [00:12<00:08,  2.34it/s]"
     ]
    },
    {
     "name": "stdout",
     "output_type": "stream",
     "text": [
      "sub_gene_cell.shape: (12152, 5000)\n",
      "sub_peak_cell.shape: (116490, 5000)\n"
     ]
    },
    {
     "name": "stderr",
     "output_type": "stream",
     "text": [
      "\r",
      " 60%|██████    | 30/50 [00:12<00:08,  2.37it/s]"
     ]
    },
    {
     "name": "stdout",
     "output_type": "stream",
     "text": [
      "sub_gene_cell.shape: (12152, 5000)\n",
      "sub_peak_cell.shape: (116490, 5000)\n"
     ]
    },
    {
     "name": "stderr",
     "output_type": "stream",
     "text": [
      "\r",
      " 62%|██████▏   | 31/50 [00:13<00:08,  2.36it/s]"
     ]
    },
    {
     "name": "stdout",
     "output_type": "stream",
     "text": [
      "sub_gene_cell.shape: (12152, 5000)\n",
      "sub_peak_cell.shape: (116490, 5000)\n"
     ]
    },
    {
     "name": "stderr",
     "output_type": "stream",
     "text": [
      "\r",
      " 64%|██████▍   | 32/50 [00:13<00:07,  2.39it/s]"
     ]
    },
    {
     "name": "stdout",
     "output_type": "stream",
     "text": [
      "sub_gene_cell.shape: (12152, 5000)\n",
      "sub_peak_cell.shape: (116490, 5000)\n"
     ]
    },
    {
     "name": "stderr",
     "output_type": "stream",
     "text": [
      "\r",
      " 66%|██████▌   | 33/50 [00:13<00:07,  2.39it/s]"
     ]
    },
    {
     "name": "stdout",
     "output_type": "stream",
     "text": [
      "sub_gene_cell.shape: (12152, 5000)\n",
      "sub_peak_cell.shape: (116490, 5000)\n"
     ]
    },
    {
     "name": "stderr",
     "output_type": "stream",
     "text": [
      "\r",
      " 68%|██████▊   | 34/50 [00:14<00:06,  2.39it/s]"
     ]
    },
    {
     "name": "stdout",
     "output_type": "stream",
     "text": [
      "sub_gene_cell.shape: (12152, 5000)\n",
      "sub_peak_cell.shape: (116490, 5000)\n"
     ]
    },
    {
     "name": "stderr",
     "output_type": "stream",
     "text": [
      "\r",
      " 70%|███████   | 35/50 [00:14<00:06,  2.39it/s]"
     ]
    },
    {
     "name": "stdout",
     "output_type": "stream",
     "text": [
      "sub_gene_cell.shape: (12152, 5000)\n",
      "sub_peak_cell.shape: (116490, 5000)\n"
     ]
    },
    {
     "name": "stderr",
     "output_type": "stream",
     "text": [
      "\r",
      " 72%|███████▏  | 36/50 [00:15<00:05,  2.40it/s]"
     ]
    },
    {
     "name": "stdout",
     "output_type": "stream",
     "text": [
      "sub_gene_cell.shape: (12152, 5000)\n",
      "sub_peak_cell.shape: (116490, 5000)\n"
     ]
    },
    {
     "name": "stderr",
     "output_type": "stream",
     "text": [
      "\r",
      " 74%|███████▍  | 37/50 [00:15<00:05,  2.41it/s]"
     ]
    },
    {
     "name": "stdout",
     "output_type": "stream",
     "text": [
      "sub_gene_cell.shape: (12152, 5000)\n",
      "sub_peak_cell.shape: (116490, 5000)\n"
     ]
    },
    {
     "name": "stderr",
     "output_type": "stream",
     "text": [
      "\r",
      " 76%|███████▌  | 38/50 [00:15<00:04,  2.42it/s]"
     ]
    },
    {
     "name": "stdout",
     "output_type": "stream",
     "text": [
      "sub_gene_cell.shape: (12152, 5000)\n",
      "sub_peak_cell.shape: (116490, 5000)\n"
     ]
    },
    {
     "name": "stderr",
     "output_type": "stream",
     "text": [
      "\r",
      " 78%|███████▊  | 39/50 [00:16<00:04,  2.41it/s]"
     ]
    },
    {
     "name": "stdout",
     "output_type": "stream",
     "text": [
      "sub_gene_cell.shape: (12152, 5000)\n",
      "sub_peak_cell.shape: (116490, 5000)\n"
     ]
    },
    {
     "name": "stderr",
     "output_type": "stream",
     "text": [
      "\r",
      " 80%|████████  | 40/50 [00:16<00:04,  2.41it/s]"
     ]
    },
    {
     "name": "stdout",
     "output_type": "stream",
     "text": [
      "sub_gene_cell.shape: (12152, 5000)\n",
      "sub_peak_cell.shape: (116490, 5000)\n"
     ]
    },
    {
     "name": "stderr",
     "output_type": "stream",
     "text": [
      "\r",
      " 82%|████████▏ | 41/50 [00:17<00:03,  2.40it/s]"
     ]
    },
    {
     "name": "stdout",
     "output_type": "stream",
     "text": [
      "sub_gene_cell.shape: (12152, 5000)\n",
      "sub_peak_cell.shape: (116490, 5000)\n"
     ]
    },
    {
     "name": "stderr",
     "output_type": "stream",
     "text": [
      "\r",
      " 84%|████████▍ | 42/50 [00:17<00:03,  2.42it/s]"
     ]
    },
    {
     "name": "stdout",
     "output_type": "stream",
     "text": [
      "sub_gene_cell.shape: (12152, 5000)\n",
      "sub_peak_cell.shape: (116490, 5000)\n"
     ]
    },
    {
     "name": "stderr",
     "output_type": "stream",
     "text": [
      "\r",
      " 86%|████████▌ | 43/50 [00:18<00:02,  2.41it/s]"
     ]
    },
    {
     "name": "stdout",
     "output_type": "stream",
     "text": [
      "sub_gene_cell.shape: (12152, 5000)\n",
      "sub_peak_cell.shape: (116490, 5000)\n"
     ]
    },
    {
     "name": "stderr",
     "output_type": "stream",
     "text": [
      "\r",
      " 88%|████████▊ | 44/50 [00:18<00:02,  2.42it/s]"
     ]
    },
    {
     "name": "stdout",
     "output_type": "stream",
     "text": [
      "sub_gene_cell.shape: (12152, 5000)\n",
      "sub_peak_cell.shape: (116490, 5000)\n"
     ]
    },
    {
     "name": "stderr",
     "output_type": "stream",
     "text": [
      "\r",
      " 90%|█████████ | 45/50 [00:18<00:02,  2.40it/s]"
     ]
    },
    {
     "name": "stdout",
     "output_type": "stream",
     "text": [
      "sub_gene_cell.shape: (12152, 5000)\n",
      "sub_peak_cell.shape: (116490, 5000)\n"
     ]
    },
    {
     "name": "stderr",
     "output_type": "stream",
     "text": [
      "\r",
      " 92%|█████████▏| 46/50 [00:19<00:01,  2.41it/s]"
     ]
    },
    {
     "name": "stdout",
     "output_type": "stream",
     "text": [
      "sub_gene_cell.shape: (12152, 5000)\n",
      "sub_peak_cell.shape: (116490, 5000)\n"
     ]
    },
    {
     "name": "stderr",
     "output_type": "stream",
     "text": [
      "\r",
      " 94%|█████████▍| 47/50 [00:19<00:01,  2.39it/s]"
     ]
    },
    {
     "name": "stdout",
     "output_type": "stream",
     "text": [
      "sub_gene_cell.shape: (12152, 5000)\n",
      "sub_peak_cell.shape: (116490, 5000)\n"
     ]
    },
    {
     "name": "stderr",
     "output_type": "stream",
     "text": [
      "\r",
      " 96%|█████████▌| 48/50 [00:20<00:00,  2.39it/s]"
     ]
    },
    {
     "name": "stdout",
     "output_type": "stream",
     "text": [
      "sub_gene_cell.shape: (12152, 5000)\n",
      "sub_peak_cell.shape: (116490, 5000)\n"
     ]
    },
    {
     "name": "stderr",
     "output_type": "stream",
     "text": [
      "\r",
      " 98%|█████████▊| 49/50 [00:20<00:00,  2.38it/s]"
     ]
    },
    {
     "name": "stdout",
     "output_type": "stream",
     "text": [
      "sub_gene_cell.shape: (12152, 5000)\n",
      "sub_peak_cell.shape: (116490, 5000)\n"
     ]
    },
    {
     "name": "stderr",
     "output_type": "stream",
     "text": [
      "100%|██████████| 50/50 [00:20<00:00,  2.39it/s]"
     ]
    },
    {
     "name": "stdout",
     "output_type": "stream",
     "text": [
      "sub_gene_cell.shape: (12152, 5000)\n",
      "sub_peak_cell.shape: (116490, 5000)\n"
     ]
    },
    {
     "name": "stderr",
     "output_type": "stream",
     "text": [
      "\n"
     ]
    }
   ],
   "source": [
    "import os\n",
    "import numpy as np\n",
    "import scipy.sparse\n",
    "from tqdm import tqdm\n",
    "from scipy import io\n",
    "\n",
    "# ip_file = '/fs/ess/scratch/PCON0022/mtduan/site1/'\n",
    "filetype_name_list = ['Rare5_Ordinary10']\n",
    "\n",
    "for filetype_name in filetype_name_list:\n",
    "    for file_num in tqdm(range(0, 50)):  # Process 50 folders\n",
    "        path2 = os.path.join(ip_file, filetype_name, str(file_num), 'R_input')\n",
    "        \n",
    "        # Set random seed\n",
    "        np.random.seed(file_num)\n",
    "        random.seed(file_num)\n",
    "        \n",
    "        # Execute sampling function\n",
    "        sample_indices = sample_cells(sorted_cell_type_dict, total_samples=5000)\n",
    "        \n",
    "        # Sample corresponding gene_cell, peak_cell matrices, and true_label labels\n",
    "        sub_gene_cell = gene_cell[:, sample_indices]\n",
    "        sub_peak_cell = peak_cell[:, sample_indices]\n",
    "        gene_cell_matrix = sub_gene_cell.X\n",
    "        peak_cell_matrix = sub_peak_cell.X\n",
    "        \n",
    "        sub_label = list(true_label.iloc[sample_indices]['cell_type'])\n",
    "        \n",
    "        print('sub_gene_cell.shape:', end=' ')\n",
    "        print(sub_gene_cell.shape)\n",
    "        print('sub_peak_cell.shape:', end=' ')\n",
    "        print(sub_peak_cell.shape)\n",
    "        \n",
    "        # Save files\n",
    "        io.mmwrite(os.path.join(path2, \"sub_gene_cell.mtx\"), gene_cell_matrix)\n",
    "        io.mmwrite(os.path.join(path2, \"sub_peak_cell.mtx\"), peak_cell_matrix)\n",
    "        with open(os.path.join(path2, \"sub_label.txt\"), \"w\") as file:\n",
    "            for label in sub_label:\n",
    "                file.write(f\"{label}\\n\")\n",
    "        with open(os.path.join(path2, \"sample_indices.txt\"), \"w\") as file:\n",
    "            for index in sample_indices:\n",
    "                file.write(f\"{index}\\n\")"
   ]
  }
 ],
 "metadata": {
  "kernelspec": {
   "display_name": "multi_HGT",
   "language": "python",
   "name": "multi_hgt"
  },
  "language_info": {
   "codemirror_mode": {
    "name": "ipython",
    "version": 3
   },
   "file_extension": ".py",
   "mimetype": "text/x-python",
   "name": "python",
   "nbconvert_exporter": "python",
   "pygments_lexer": "ipython3",
   "version": "3.8.0"
  }
 },
 "nbformat": 4,
 "nbformat_minor": 5
}
