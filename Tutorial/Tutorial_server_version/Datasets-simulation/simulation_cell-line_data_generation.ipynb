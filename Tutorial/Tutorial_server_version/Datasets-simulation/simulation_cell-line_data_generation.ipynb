{
 "cells": [
  {
   "cell_type": "code",
   "execution_count": 1,
   "id": "7f3fdc5e",
   "metadata": {},
   "outputs": [],
   "source": [
    "from collections import Counter\n",
    "import matplotlib.pyplot as plt\n",
    "from pysankey2 import Sankey\n",
    "from scipy import sparse\n",
    "from scipy.sparse import hstack, vstack, coo_matrix\n",
    "from scipy.io import mmread\n",
    "from sklearn import metrics\n",
    "import math\n",
    "import time\n",
    "import anndata\n",
    "import torch\n",
    "import numpy as np\n",
    "import pandas as pd\n",
    "import scanpy as sc\n",
    "import random\n",
    "import os\n",
    "from warnings import filterwarnings\n",
    "import scipy.sparse as sp\n",
    "from operator import itemgetter\n",
    "filterwarnings(\"ignore\")\n",
    "import json, os\n",
    "import math, copy, time\n",
    "import numpy as np\n",
    "from collections import defaultdict\n",
    "import pyHGT2\n",
    "from pyHGT2.data import *\n",
    "from pyHGT2.utils import *\n",
    "from pyHGT2.model1 import *\n",
    "from pyHGT2.conv import *\n",
    "from sklearn import metrics\n",
    "\n",
    "from collections import Counter\n",
    "import matplotlib.pyplot as plt\n",
    "from pysankey2 import Sankey\n",
    "from scipy.sparse import hstack, vstack, coo_matrix\n",
    "from scipy.io import mmread\n",
    "from sklearn import metrics\n",
    "import math\n",
    "import time\n",
    "import anndata\n",
    "import torch\n",
    "import numpy as np\n",
    "import pandas as pd\n",
    "import scanpy as sc\n",
    "import random\n",
    "import os\n",
    "from scipy import sparse\n",
    "from scipy.io import mmread\n",
    "from scipy.sparse import hstack, vstack, coo_matrix\n",
    "from sklearn.metrics import precision_score,recall_score,f1_score\n",
    "from sklearn.metrics import accuracy_score\n",
    "from sklearn.metrics.cluster import normalized_mutual_info_score\n",
    "\n",
    "import xlwt\n",
    "from tqdm import tqdm\n",
    "from collections import Counter\n",
    "import matplotlib.pyplot as plt"
   ]
  },
  {
   "cell_type": "code",
   "execution_count": 2,
   "id": "1be8738e",
   "metadata": {},
   "outputs": [],
   "source": [
    "def sub_anndatas(index,ad1,dim1,ad2,dim2,ad3):\n",
    "    def sub_ad(ad,id,dim):\n",
    "        if dim == 0:\n",
    "            ad = ad[id,:]\n",
    "        elif dim == 1:\n",
    "            ad = ad[:,id]\n",
    "        return(ad)\n",
    "\n",
    "    # sub sample\n",
    "    ad1 = sub_ad(ad1,index,dim1)\n",
    "    ad2 = sub_ad(ad2,index,dim2)\n",
    "\n",
    "    # delete feature1 and feature2 not in sample\n",
    "    index1 = np.where(np.array(ad1.X.sum(dim1)).squeeze()>0)[0]\n",
    "    index2 = np.where(np.array(ad2.X.sum(dim2)).squeeze()>0)[0]\n",
    "    ad3_new = sub_ad(sub_ad(ad3,index1,0),index2,1)\n",
    "\n",
    "    # delete feature1 and feature2 not link\n",
    "    index1 = index1[np.where(np.array(ad3_new.X.sum(1)).squeeze()>0)[0]]\n",
    "    index2 = index2[np.where(np.array(ad3_new.X.sum(0)).squeeze()>0)[0]]\n",
    "\n",
    "    ad1 = sub_ad(ad1,index1,1-dim1)\n",
    "    ad2 = sub_ad(ad2,index2,1-dim2)\n",
    "    ad3 = sub_ad(sub_ad(ad3,index1,0),index2,1)\n",
    "\n",
    "    #delete sample don't in features\n",
    "    index = np.where((np.array(ad1.X.sum(1-dim1)).squeeze()>0) & (np.array(ad2.X.sum(1-dim2)).squeeze()>0))[0]\n",
    "    ad1 = sub_ad(ad1,index,dim1)\n",
    "    ad2 = sub_ad(ad2,index,dim2)\n",
    "    return (ad1,ad2,ad3,index1,index2,index)"
   ]
  },
  {
   "cell_type": "markdown",
   "id": "b49bb02d",
   "metadata": {},
   "source": [
    "## 读取cell_line数据集"
   ]
  },
  {
   "cell_type": "code",
   "execution_count": 3,
   "id": "b56c6d09",
   "metadata": {},
   "outputs": [],
   "source": [
    "ds = 'celline'\n",
    "os.chdir('/fs/ess/PCON0022/LiJingxian/Data/ATAC/mult/celline/')\n",
    "gene_peak = anndata.read_mtx('Gene_Peak.mtx')\n",
    "gene_cell = anndata.read_mtx('Gene_Cell.mtx')\n",
    "peak_cell = anndata.read_mtx('Peak_Cell.mtx')\n",
    "gene_names = pd.read_csv('Gene_names.tsv', sep='\\t', header=None)\n",
    "cell_names = pd.read_csv('Cell_names.tsv', sep='\\t', header=None)\n",
    "peak_names = pd.read_csv('Peak_names.tsv', sep='\\t', header=None)\n",
    "peak_cell.obs_names = peak_names[0]\n",
    "peak_cell.var_names = cell_names[0]\n",
    "gene_cell.obs_names = gene_names[0]\n",
    "gene_cell.var_names = cell_names[0]\n",
    "gene_peak.obs_names = gene_names[0]\n",
    "gene_peak.var_names = peak_names[0]"
   ]
  },
  {
   "cell_type": "code",
   "execution_count": 4,
   "id": "dbd8be06",
   "metadata": {},
   "outputs": [
    {
     "data": {
      "text/html": [
       "<div>\n",
       "<style scoped>\n",
       "    .dataframe tbody tr th:only-of-type {\n",
       "        vertical-align: middle;\n",
       "    }\n",
       "\n",
       "    .dataframe tbody tr th {\n",
       "        vertical-align: top;\n",
       "    }\n",
       "\n",
       "    .dataframe thead th {\n",
       "        text-align: right;\n",
       "    }\n",
       "</style>\n",
       "<table border=\"1\" class=\"dataframe\">\n",
       "  <thead>\n",
       "    <tr style=\"text-align: right;\">\n",
       "      <th></th>\n",
       "      <th>cell_type</th>\n",
       "    </tr>\n",
       "  </thead>\n",
       "  <tbody>\n",
       "    <tr>\n",
       "      <th>0</th>\n",
       "      <td>HCT116</td>\n",
       "    </tr>\n",
       "    <tr>\n",
       "      <th>1</th>\n",
       "      <td>HCT116</td>\n",
       "    </tr>\n",
       "    <tr>\n",
       "      <th>2</th>\n",
       "      <td>HCT116</td>\n",
       "    </tr>\n",
       "    <tr>\n",
       "      <th>3</th>\n",
       "      <td>HCT116</td>\n",
       "    </tr>\n",
       "    <tr>\n",
       "      <th>4</th>\n",
       "      <td>HCT116</td>\n",
       "    </tr>\n",
       "    <tr>\n",
       "      <th>...</th>\n",
       "      <td>...</td>\n",
       "    </tr>\n",
       "    <tr>\n",
       "      <th>544</th>\n",
       "      <td>PDX2</td>\n",
       "    </tr>\n",
       "    <tr>\n",
       "      <th>545</th>\n",
       "      <td>PDX2</td>\n",
       "    </tr>\n",
       "    <tr>\n",
       "      <th>546</th>\n",
       "      <td>PDX2</td>\n",
       "    </tr>\n",
       "    <tr>\n",
       "      <th>547</th>\n",
       "      <td>PDX2</td>\n",
       "    </tr>\n",
       "    <tr>\n",
       "      <th>548</th>\n",
       "      <td>PDX2</td>\n",
       "    </tr>\n",
       "  </tbody>\n",
       "</table>\n",
       "<p>549 rows × 1 columns</p>\n",
       "</div>"
      ],
      "text/plain": [
       "    cell_type\n",
       "0      HCT116\n",
       "1      HCT116\n",
       "2      HCT116\n",
       "3      HCT116\n",
       "4      HCT116\n",
       "..        ...\n",
       "544      PDX2\n",
       "545      PDX2\n",
       "546      PDX2\n",
       "547      PDX2\n",
       "548      PDX2\n",
       "\n",
       "[549 rows x 1 columns]"
      ]
     },
     "execution_count": 4,
     "metadata": {},
     "output_type": "execute_result"
    }
   ],
   "source": [
    "cell_names = pd.Series(list(cell_names.iloc[:,0])).map(lambda x:x.split('_')[1])\n",
    "true_label = pd.DataFrame(list(cell_names),columns=['cell_type'])\n",
    "cell_type = true_label\n",
    "cell_type"
   ]
  },
  {
   "cell_type": "code",
   "execution_count": 5,
   "id": "16708377",
   "metadata": {},
   "outputs": [],
   "source": [
    "cell_type['number'] = 1\n",
    "cell_count = cell_type.groupby('cell_type').count()\n",
    "cell_count =cell_count.sort_values(by='number',ascending=True, inplace=False)\n",
    "rare_name = cell_count.iloc[0:2].index\n",
    "ordinary_name = cell_count.iloc[-2:].index"
   ]
  },
  {
   "cell_type": "code",
   "execution_count": 6,
   "id": "976f7f06",
   "metadata": {},
   "outputs": [
    {
     "data": {
      "text/html": [
       "<div>\n",
       "<style scoped>\n",
       "    .dataframe tbody tr th:only-of-type {\n",
       "        vertical-align: middle;\n",
       "    }\n",
       "\n",
       "    .dataframe tbody tr th {\n",
       "        vertical-align: top;\n",
       "    }\n",
       "\n",
       "    .dataframe thead th {\n",
       "        text-align: right;\n",
       "    }\n",
       "</style>\n",
       "<table border=\"1\" class=\"dataframe\">\n",
       "  <thead>\n",
       "    <tr style=\"text-align: right;\">\n",
       "      <th></th>\n",
       "      <th>number</th>\n",
       "    </tr>\n",
       "    <tr>\n",
       "      <th>cell_type</th>\n",
       "      <th></th>\n",
       "    </tr>\n",
       "  </thead>\n",
       "  <tbody>\n",
       "    <tr>\n",
       "      <th>HeLa.S3</th>\n",
       "      <td>42</td>\n",
       "    </tr>\n",
       "    <tr>\n",
       "      <th>K562</th>\n",
       "      <td>74</td>\n",
       "    </tr>\n",
       "    <tr>\n",
       "      <th>HCT116</th>\n",
       "      <td>90</td>\n",
       "    </tr>\n",
       "    <tr>\n",
       "      <th>PDX2</th>\n",
       "      <td>167</td>\n",
       "    </tr>\n",
       "    <tr>\n",
       "      <th>PDX1</th>\n",
       "      <td>176</td>\n",
       "    </tr>\n",
       "  </tbody>\n",
       "</table>\n",
       "</div>"
      ],
      "text/plain": [
       "           number\n",
       "cell_type        \n",
       "HeLa.S3        42\n",
       "K562           74\n",
       "HCT116         90\n",
       "PDX2          167\n",
       "PDX1          176"
      ]
     },
     "execution_count": 6,
     "metadata": {},
     "output_type": "execute_result"
    }
   ],
   "source": [
    "cell_count"
   ]
  },
  {
   "cell_type": "code",
   "execution_count": 7,
   "id": "79486c4a",
   "metadata": {},
   "outputs": [
    {
     "data": {
      "text/plain": [
       "Index(['HeLa.S3', 'K562'], dtype='object', name='cell_type')"
      ]
     },
     "execution_count": 7,
     "metadata": {},
     "output_type": "execute_result"
    }
   ],
   "source": [
    "rare_name"
   ]
  },
  {
   "cell_type": "code",
   "execution_count": 8,
   "id": "766f8c52",
   "metadata": {},
   "outputs": [
    {
     "data": {
      "text/plain": [
       "Index(['PDX2', 'PDX1'], dtype='object', name='cell_type')"
      ]
     },
     "execution_count": 8,
     "metadata": {},
     "output_type": "execute_result"
    }
   ],
   "source": [
    "ordinary_name"
   ]
  },
  {
   "cell_type": "code",
   "execution_count": 9,
   "id": "f43e75e1",
   "metadata": {},
   "outputs": [],
   "source": [
    "ordinary_index = list(cell_type[np.array(cell_type['cell_type']==ordinary_name[0])+np.array(cell_type['cell_type']==ordinary_name[1])].index)\n",
    "one_rare_index = list(cell_type[np.array(cell_type['cell_type']==rare_name[0])].index)\n",
    "# two_rare_index = list(cell_type[np.array(cell_type['cell_type']==rare_name[0])+np.array(cell_type['cell_type']==rare_name[1])].index)\n",
    "two_rare_index_1 = list(cell_type[np.array(cell_type['cell_type']==rare_name[0])].index)\n",
    "two_rare_index_2 = list(cell_type[np.array(cell_type['cell_type']==rare_name[1])].index)"
   ]
  },
  {
   "cell_type": "code",
   "execution_count": 19,
   "id": "bea686ff",
   "metadata": {},
   "outputs": [
    {
     "data": {
      "text/plain": [
       "343"
      ]
     },
     "execution_count": 19,
     "metadata": {},
     "output_type": "execute_result"
    }
   ],
   "source": [
    "len(ordinary_index)"
   ]
  },
  {
   "cell_type": "code",
   "execution_count": 18,
   "id": "db5c4180",
   "metadata": {},
   "outputs": [
    {
     "data": {
      "text/plain": [
       "42"
      ]
     },
     "execution_count": 18,
     "metadata": {},
     "output_type": "execute_result"
    }
   ],
   "source": [
    "len(one_rare_index)"
   ]
  },
  {
   "cell_type": "code",
   "execution_count": 16,
   "id": "dfed2b80",
   "metadata": {},
   "outputs": [
    {
     "data": {
      "text/plain": [
       "42"
      ]
     },
     "execution_count": 16,
     "metadata": {},
     "output_type": "execute_result"
    }
   ],
   "source": [
    "len(two_rare_index_1)"
   ]
  },
  {
   "cell_type": "code",
   "execution_count": 17,
   "id": "41a3736a",
   "metadata": {},
   "outputs": [
    {
     "data": {
      "text/plain": [
       "74"
      ]
     },
     "execution_count": 17,
     "metadata": {},
     "output_type": "execute_result"
    }
   ],
   "source": [
    "len(two_rare_index_2)"
   ]
  },
  {
   "cell_type": "markdown",
   "id": "5eeffc21",
   "metadata": {},
   "source": [
    "## Ordinary1 Rare1"
   ]
  },
  {
   "cell_type": "code",
   "execution_count": 21,
   "id": "2930e003",
   "metadata": {},
   "outputs": [
    {
     "name": "stderr",
     "output_type": "stream",
     "text": [
      "100%|██████████| 50/50 [09:53<00:00, 11.88s/it]\n"
     ]
    }
   ],
   "source": [
    "true_label = np.array(cell_names)\n",
    "ip_file = '/fs/ess/scratch/PCON0022/mtduan/cell_line/'\n",
    "filetype_name = 'Ordinary1_Rare1'\n",
    "\n",
    "for file_num in tqdm(range(50)):\n",
    "    l = []\n",
    "    l = l + random.sample(ordinary_index,290)\n",
    "    l = l + random.sample(one_rare_index,10)\n",
    "    l = np.sort(np.array(l))\n",
    "    label = true_label[l]\n",
    "#     print(l)\n",
    "#     print(label)\n",
    "    Gene_Cell, Peak_Cell, Gene_Peak, gene_index, peak_index, cell_index = sub_anndatas(l,gene_cell,1,peak_cell,1,gene_peak)\n",
    "    #gene cell\n",
    "    RNA_matrix = Gene_Cell.X\n",
    "    #peak cell\n",
    "    ATAC_matrix = Peak_Cell.X\n",
    "    #gene peak\n",
    "    GP_matrix = Gene_Peak.X\n",
    "\n",
    "    sub_gene_name = list(gene_names[0][gene_index])\n",
    "    sub_peak_name = list(peak_names[0][peak_index])\n",
    "    \n",
    "    ## python_input\n",
    "    np.save(ip_file+str(filetype_name)+'/'+str(file_num)+'/P_input'+'/label300.npy',label)\n",
    "    sparse.save_npz(ip_file+str(filetype_name)+'/'+str(file_num)+'/P_input'+'/RNA'+'.npz', RNA_matrix) \n",
    "    sparse.save_npz(ip_file+str(filetype_name)+'/'+str(file_num)+'/P_input'+'/ATAC'+'.npz', ATAC_matrix)\n",
    "    sparse.save_npz(ip_file+str(filetype_name)+'/'+str(file_num)+'/P_input'+'/Gene_Peak_'+'.npz', GP_matrix)\n",
    "    np.save(ip_file+str(filetype_name)+'/'+str(file_num)+'/P_input'+'/gene_name.npy',sub_gene_name)\n",
    "    np.save(ip_file+str(filetype_name)+'/'+str(file_num)+'/P_input'+'/peak_name.npy',sub_peak_name)\n",
    "    \n",
    "    ## R_input\n",
    "    site1_GEX = np.array(RNA_matrix.transpose().todense(),dtype='int64')\n",
    "    site1_ATAC = np.array(ATAC_matrix.transpose().todense(),dtype='int64')\n",
    "    site1_label = label\n",
    "    np.savetxt(ip_file+str(filetype_name)+'/'+str(file_num)+'/R_input/'+'site1_GEX.txt',site1_GEX,fmt=\"%d\")\n",
    "    np.savetxt(ip_file+str(filetype_name)+'/'+str(file_num)+'/R_input/'+'site1_ATAC.txt',site1_ATAC,fmt=\"%d\")\n",
    "    np.savetxt(ip_file+str(filetype_name)+'/'+str(file_num)+'/R_input/'+'site1_label.txt',site1_label,fmt=\"%s\")"
   ]
  },
  {
   "cell_type": "markdown",
   "id": "362f9f2f",
   "metadata": {},
   "source": [
    "## Ordinary1 Rare2"
   ]
  },
  {
   "cell_type": "code",
   "execution_count": 10,
   "id": "84ef94d5",
   "metadata": {},
   "outputs": [
    {
     "name": "stderr",
     "output_type": "stream",
     "text": [
      "100%|██████████| 50/50 [10:31<00:00, 12.63s/it]\n"
     ]
    }
   ],
   "source": [
    "true_label = np.array(cell_names)\n",
    "ip_file = '/fs/ess/scratch/PCON0022/mtduan/cell_line/'\n",
    "filetype_name = 'Ordinary1_Rare2'\n",
    "\n",
    "for file_num in tqdm(range(50)):\n",
    "    l = []\n",
    "    l = l + random.sample(ordinary_index,280)\n",
    "    l = l + random.sample(two_rare_index_1,10)\n",
    "    l = l + random.sample(two_rare_index_2,10)\n",
    "    l = np.sort(np.array(l))\n",
    "    label = true_label[l]\n",
    "#     print(l)\n",
    "#     print(label)\n",
    "    Gene_Cell, Peak_Cell, Gene_Peak, gene_index, peak_index, cell_index = sub_anndatas(l,gene_cell,1,peak_cell,1,gene_peak)\n",
    "    #gene cell\n",
    "    RNA_matrix = Gene_Cell.X\n",
    "    #peak cell\n",
    "    ATAC_matrix = Peak_Cell.X\n",
    "    #gene peak\n",
    "    GP_matrix = Gene_Peak.X\n",
    "\n",
    "    sub_gene_name = list(gene_names[0][gene_index])\n",
    "    sub_peak_name = list(peak_names[0][peak_index])\n",
    "    \n",
    "    ## python_input\n",
    "    np.save(ip_file+str(filetype_name)+'/'+str(file_num)+'/P_input'+'/label300.npy',label)\n",
    "    sparse.save_npz(ip_file+str(filetype_name)+'/'+str(file_num)+'/P_input'+'/RNA'+'.npz', RNA_matrix) \n",
    "    sparse.save_npz(ip_file+str(filetype_name)+'/'+str(file_num)+'/P_input'+'/ATAC'+'.npz', ATAC_matrix)\n",
    "    sparse.save_npz(ip_file+str(filetype_name)+'/'+str(file_num)+'/P_input'+'/Gene_Peak_'+'.npz', GP_matrix)\n",
    "    np.save(ip_file+str(filetype_name)+'/'+str(file_num)+'/P_input'+'/gene_name.npy',sub_gene_name)\n",
    "    np.save(ip_file+str(filetype_name)+'/'+str(file_num)+'/P_input'+'/peak_name.npy',sub_peak_name)\n",
    "    \n",
    "    ## R_input\n",
    "    site1_GEX = np.array(RNA_matrix.transpose().todense(),dtype='int64')\n",
    "    site1_ATAC = np.array(ATAC_matrix.transpose().todense(),dtype='int64')\n",
    "    site1_label = label\n",
    "    np.savetxt(ip_file+str(filetype_name)+'/'+str(file_num)+'/R_input/'+'site1_GEX.txt',site1_GEX,fmt=\"%d\")\n",
    "    np.savetxt(ip_file+str(filetype_name)+'/'+str(file_num)+'/R_input/'+'site1_ATAC.txt',site1_ATAC,fmt=\"%d\")\n",
    "    np.savetxt(ip_file+str(filetype_name)+'/'+str(file_num)+'/R_input/'+'site1_label.txt',site1_label,fmt=\"%s\")"
   ]
  }
 ],
 "metadata": {
  "kernelspec": {
   "display_name": "multiHGT",
   "language": "python",
   "name": "multihgt"
  },
  "language_info": {
   "codemirror_mode": {
    "name": "ipython",
    "version": 3
   },
   "file_extension": ".py",
   "mimetype": "text/x-python",
   "name": "python",
   "nbconvert_exporter": "python",
   "pygments_lexer": "ipython3",
   "version": "3.8.0"
  }
 },
 "nbformat": 4,
 "nbformat_minor": 5
}
